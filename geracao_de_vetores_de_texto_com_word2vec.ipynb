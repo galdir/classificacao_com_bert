{
  "nbformat": 4,
  "nbformat_minor": 0,
  "metadata": {
    "colab": {
      "provenance": [],
      "authorship_tag": "ABX9TyMYbxio186tIG7Oqiteah0R",
      "include_colab_link": true
    },
    "kernelspec": {
      "name": "python3",
      "display_name": "Python 3"
    },
    "language_info": {
      "name": "python"
    }
  },
  "cells": [
    {
      "cell_type": "markdown",
      "metadata": {
        "id": "view-in-github",
        "colab_type": "text"
      },
      "source": [
        "<a href=\"https://colab.research.google.com/github/galdir/classificacao_com_bert/blob/main/geracao_de_vetores_de_texto_com_word2vec.ipynb\" target=\"_parent\"><img src=\"https://colab.research.google.com/assets/colab-badge.svg\" alt=\"Open In Colab\"/></a>"
      ]
    },
    {
      "cell_type": "markdown",
      "source": [
        "\n",
        "\n",
        "# Instalar pacotes\n"
      ],
      "metadata": {
        "id": "f-GqBFScP_90"
      }
    },
    {
      "cell_type": "code",
      "source": [
        "!pip install requests gensim"
      ],
      "metadata": {
        "colab": {
          "base_uri": "https://localhost:8080/"
        },
        "id": "lyK-Xpo4RR_9",
        "outputId": "cecf00e1-9f23-4e31-e98e-cd91a855af25"
      },
      "execution_count": 1,
      "outputs": [
        {
          "output_type": "stream",
          "name": "stdout",
          "text": [
            "Requirement already satisfied: requests in /usr/local/lib/python3.11/dist-packages (2.32.3)\n",
            "Collecting gensim\n",
            "  Downloading gensim-4.3.3-cp311-cp311-manylinux_2_17_x86_64.manylinux2014_x86_64.whl.metadata (8.1 kB)\n",
            "Requirement already satisfied: charset-normalizer<4,>=2 in /usr/local/lib/python3.11/dist-packages (from requests) (3.4.1)\n",
            "Requirement already satisfied: idna<4,>=2.5 in /usr/local/lib/python3.11/dist-packages (from requests) (3.10)\n",
            "Requirement already satisfied: urllib3<3,>=1.21.1 in /usr/local/lib/python3.11/dist-packages (from requests) (2.3.0)\n",
            "Requirement already satisfied: certifi>=2017.4.17 in /usr/local/lib/python3.11/dist-packages (from requests) (2025.1.31)\n",
            "Collecting numpy<2.0,>=1.18.5 (from gensim)\n",
            "  Downloading numpy-1.26.4-cp311-cp311-manylinux_2_17_x86_64.manylinux2014_x86_64.whl.metadata (61 kB)\n",
            "\u001b[2K     \u001b[90m━━━━━━━━━━━━━━━━━━━━━━━━━━━━━━━━━━━━━━━━\u001b[0m \u001b[32m61.0/61.0 kB\u001b[0m \u001b[31m1.7 MB/s\u001b[0m eta \u001b[36m0:00:00\u001b[0m\n",
            "\u001b[?25hCollecting scipy<1.14.0,>=1.7.0 (from gensim)\n",
            "  Downloading scipy-1.13.1-cp311-cp311-manylinux_2_17_x86_64.manylinux2014_x86_64.whl.metadata (60 kB)\n",
            "\u001b[2K     \u001b[90m━━━━━━━━━━━━━━━━━━━━━━━━━━━━━━━━━━━━━━━━\u001b[0m \u001b[32m60.6/60.6 kB\u001b[0m \u001b[31m1.6 MB/s\u001b[0m eta \u001b[36m0:00:00\u001b[0m\n",
            "\u001b[?25hRequirement already satisfied: smart-open>=1.8.1 in /usr/local/lib/python3.11/dist-packages (from gensim) (7.1.0)\n",
            "Requirement already satisfied: wrapt in /usr/local/lib/python3.11/dist-packages (from smart-open>=1.8.1->gensim) (1.17.2)\n",
            "Downloading gensim-4.3.3-cp311-cp311-manylinux_2_17_x86_64.manylinux2014_x86_64.whl (26.7 MB)\n",
            "\u001b[2K   \u001b[90m━━━━━━━━━━━━━━━━━━━━━━━━━━━━━━━━━━━━━━━━\u001b[0m \u001b[32m26.7/26.7 MB\u001b[0m \u001b[31m21.4 MB/s\u001b[0m eta \u001b[36m0:00:00\u001b[0m\n",
            "\u001b[?25hDownloading numpy-1.26.4-cp311-cp311-manylinux_2_17_x86_64.manylinux2014_x86_64.whl (18.3 MB)\n",
            "\u001b[2K   \u001b[90m━━━━━━━━━━━━━━━━━━━━━━━━━━━━━━━━━━━━━━━━\u001b[0m \u001b[32m18.3/18.3 MB\u001b[0m \u001b[31m21.4 MB/s\u001b[0m eta \u001b[36m0:00:00\u001b[0m\n",
            "\u001b[?25hDownloading scipy-1.13.1-cp311-cp311-manylinux_2_17_x86_64.manylinux2014_x86_64.whl (38.6 MB)\n",
            "\u001b[2K   \u001b[90m━━━━━━━━━━━━━━━━━━━━━━━━━━━━━━━━━━━━━━━━\u001b[0m \u001b[32m38.6/38.6 MB\u001b[0m \u001b[31m19.1 MB/s\u001b[0m eta \u001b[36m0:00:00\u001b[0m\n",
            "\u001b[?25hInstalling collected packages: numpy, scipy, gensim\n",
            "  Attempting uninstall: numpy\n",
            "    Found existing installation: numpy 2.0.2\n",
            "    Uninstalling numpy-2.0.2:\n",
            "      Successfully uninstalled numpy-2.0.2\n",
            "  Attempting uninstall: scipy\n",
            "    Found existing installation: scipy 1.14.1\n",
            "    Uninstalling scipy-1.14.1:\n",
            "      Successfully uninstalled scipy-1.14.1\n",
            "\u001b[31mERROR: pip's dependency resolver does not currently take into account all the packages that are installed. This behaviour is the source of the following dependency conflicts.\n",
            "thinc 8.3.6 requires numpy<3.0.0,>=2.0.0, but you have numpy 1.26.4 which is incompatible.\u001b[0m\u001b[31m\n",
            "\u001b[0mSuccessfully installed gensim-4.3.3 numpy-1.26.4 scipy-1.13.1\n"
          ]
        }
      ]
    },
    {
      "cell_type": "markdown",
      "source": [
        "# Reiniciar depois da instalação do gensim para poder carregar"
      ],
      "metadata": {
        "id": "zn_sASGmpO0Z"
      }
    },
    {
      "cell_type": "code",
      "source": [
        "import os\n",
        "os.kill(os.getpid(), 9)"
      ],
      "metadata": {
        "id": "yySkAug6pOf-"
      },
      "execution_count": null,
      "outputs": []
    },
    {
      "cell_type": "markdown",
      "source": [
        "# Carregar pacotes"
      ],
      "metadata": {
        "id": "w1B0tBBJpVT7"
      }
    },
    {
      "cell_type": "code",
      "source": [
        "import requests\n",
        "import zipfile\n",
        "import os\n",
        "import gensim\n",
        "from gensim.models import KeyedVectors"
      ],
      "metadata": {
        "id": "JBGqQ1fNo1Ge"
      },
      "execution_count": 1,
      "outputs": []
    },
    {
      "cell_type": "markdown",
      "source": [
        "# Configuração\n"
      ],
      "metadata": {
        "id": "XtG0QyKTtZCr"
      }
    },
    {
      "cell_type": "markdown",
      "source": [
        "Download de um modelo do NILC http://nilc.icmc.usp.br/embeddings"
      ],
      "metadata": {
        "id": "R9mXOc3hzNXZ"
      }
    },
    {
      "cell_type": "code",
      "source": [
        "MODEL_URL = \"http://143.107.183.175:22980/download.php?file=embeddings/word2vec/cbow_s50.zip\"\n",
        "ZIP_FILENAME = \"cbow_s50.zip\"      # Nome do arquivo zip a ser salvo/procurado\n",
        "MODEL_FILENAME = \"cbow_s50.txt\"  # Nome do arquivo de modelo dentro do zip e após extração\n",
        "IS_BINARY_FORMAT = False         # Modelo é formato texto (.txt)\n",
        "\n",
        "wv_model = None # Variavel para o modelo\n"
      ],
      "metadata": {
        "id": "i2iNy_fNpiZa"
      },
      "execution_count": 2,
      "outputs": []
    },
    {
      "cell_type": "markdown",
      "source": [
        "# Baixa o ARQUIVO ZIP do word2vec\n"
      ],
      "metadata": {
        "id": "YVVW5DQRtcdK"
      }
    },
    {
      "cell_type": "code",
      "source": [
        "\n",
        "print(f\"Baixando '{ZIP_FILENAME}' para a pasta atual...\")\n",
        "\n",
        "response = requests.get(MODEL_URL, stream=True, timeout=300)\n",
        "response.raise_for_status() # Checa erros HTTP\n",
        "with open(ZIP_FILENAME, 'wb') as f:\n",
        "    for chunk in response.iter_content(chunk_size=8192):\n",
        "        f.write(chunk)\n",
        "print(\"Download do zip concluído.\")\n"
      ],
      "metadata": {
        "colab": {
          "base_uri": "https://localhost:8080/"
        },
        "id": "LKLD7H0yrnBN",
        "outputId": "5eecaea8-a2b9-4f67-b999-0ac238a04954"
      },
      "execution_count": 3,
      "outputs": [
        {
          "output_type": "stream",
          "name": "stdout",
          "text": [
            "Baixando 'cbow_s50.zip' para a pasta atual...\n",
            "Download do zip concluído.\n"
          ]
        }
      ]
    },
    {
      "cell_type": "markdown",
      "source": [
        "# Descompacta o ARQUIVO word2vec"
      ],
      "metadata": {
        "id": "IfmA7PE3tgW9"
      }
    },
    {
      "cell_type": "code",
      "source": [
        "print(f\"Descompactando '{MODEL_FILENAME}' de '{ZIP_FILENAME}'...\")\n",
        "\n",
        "with zipfile.ZipFile(ZIP_FILENAME, 'r') as zip_ref:\n",
        "    if MODEL_FILENAME not in zip_ref.namelist():\n",
        "          raise FileNotFoundError(f\"'{MODEL_FILENAME}' não encontrado dentro de '{ZIP_FILENAME}'\")\n",
        "    # Extrai o arquivo para a pasta atual (sem especificar 'path')\n",
        "    zip_ref.extract(MODEL_FILENAME)\n",
        "print(f\"'{MODEL_FILENAME}' extraído.\")\n",
        "\n"
      ],
      "metadata": {
        "colab": {
          "base_uri": "https://localhost:8080/"
        },
        "id": "3FFVufj3r2H1",
        "outputId": "d780793f-407c-43cc-a96e-32d5833a94d1"
      },
      "execution_count": 4,
      "outputs": [
        {
          "output_type": "stream",
          "name": "stdout",
          "text": [
            "Descompactando 'cbow_s50.txt' de 'cbow_s50.zip'...\n",
            "'cbow_s50.txt' extraído.\n"
          ]
        }
      ]
    },
    {
      "cell_type": "markdown",
      "source": [
        "# Carrega o modelo Word2Vec"
      ],
      "metadata": {
        "id": "WvlteWO7tnSZ"
      }
    },
    {
      "cell_type": "code",
      "source": [
        "print(f\"\\nCarregando modelo '{MODEL_FILENAME}'...\")\n",
        "wv_model = KeyedVectors.load_word2vec_format(MODEL_FILENAME, binary=IS_BINARY_FORMAT)\n",
        "print(\"Modelo carregado!\")\n",
        "print(f\"Vocabulário: {len(wv_model.index_to_key):,} palavras, Dimensão: {wv_model.vector_size}\")"
      ],
      "metadata": {
        "colab": {
          "base_uri": "https://localhost:8080/"
        },
        "id": "Kg1N5ti-r-LZ",
        "outputId": "2febba7f-cd95-4c8e-cb80-6bb635b1e14a"
      },
      "execution_count": 5,
      "outputs": [
        {
          "output_type": "stream",
          "name": "stdout",
          "text": [
            "\n",
            "Carregando modelo 'cbow_s50.txt'...\n",
            "Modelo carregado!\n",
            "Vocabulário: 929,606 palavras, Dimensão: 50\n"
          ]
        }
      ]
    },
    {
      "cell_type": "markdown",
      "source": [
        "# Busca por palavras similares"
      ],
      "metadata": {
        "id": "34xSgK4gtrCJ"
      }
    },
    {
      "cell_type": "code",
      "source": [
        "palavra = 'tempo'\n",
        "similares = wv_model.most_similar(palavra, topn=5)\n",
        "print(f\"Palavras similares a '{palavra}':\")\n",
        "for p in similares:\n",
        "  print(p)\n"
      ],
      "metadata": {
        "colab": {
          "base_uri": "https://localhost:8080/"
        },
        "id": "KRPJbJIXqV5p",
        "outputId": "712d346e-f15a-4166-b578-1c6f79028edd"
      },
      "execution_count": 6,
      "outputs": [
        {
          "output_type": "stream",
          "name": "stdout",
          "text": [
            "Palavras similares a 'tempo':\n",
            "('tem-po', 0.798141598701477)\n",
            "('período', 0.7876189351081848)\n",
            "('lempo', 0.7823120951652527)\n",
            "('ano', 0.7751826047897339)\n",
            "('mês', 0.7722440958023071)\n"
          ]
        }
      ]
    },
    {
      "cell_type": "code",
      "source": [
        "palavra = 'brasil'\n",
        "similares = wv_model.most_similar(palavra, topn=5)\n",
        "print(f\"Palavras similares a '{palavra}':\")\n",
        "for p in similares:\n",
        "  print(p)\n",
        "\n"
      ],
      "metadata": {
        "colab": {
          "base_uri": "https://localhost:8080/"
        },
        "id": "t2Yss0Xxsrni",
        "outputId": "7cf0c753-0610-465e-bb4e-0b7e1ee1c950"
      },
      "execution_count": 7,
      "outputs": [
        {
          "output_type": "stream",
          "name": "stdout",
          "text": [
            "Palavras similares a 'brasil':\n",
            "('japão', 0.8968338966369629)\n",
            "('haiti', 0.8842310309410095)\n",
            "('trapichão', 0.8785302042961121)\n",
            "('fazendão', 0.8718751668930054)\n",
            "('canadã¡.', 0.8690112233161926)\n"
          ]
        }
      ]
    },
    {
      "cell_type": "markdown",
      "source": [
        "# Similaridade entre palavras"
      ],
      "metadata": {
        "id": "ZeKnjBK3uGeP"
      }
    },
    {
      "cell_type": "code",
      "source": [
        "p1, p2 = 'carro', 'bicicleta'\n",
        "sim = wv_model.similarity(p1, p2)\n",
        "print(f\"\\nSimilaridade entre '{p1}' e '{p2}': {sim:.4f}\")"
      ],
      "metadata": {
        "colab": {
          "base_uri": "https://localhost:8080/"
        },
        "id": "KRC5CpEUstNb",
        "outputId": "f77e122d-9013-469a-9679-439c8859ee20"
      },
      "execution_count": 8,
      "outputs": [
        {
          "output_type": "stream",
          "name": "stdout",
          "text": [
            "\n",
            "Similaridade entre 'carro' e 'bicicleta': 0.4308\n"
          ]
        }
      ]
    },
    {
      "cell_type": "code",
      "source": [
        "p1, p2 = 'carro', 'moto'\n",
        "sim = wv_model.similarity(p1, p2)\n",
        "print(f\"\\nSimilaridade entre '{p1}' e '{p2}': {sim:.4f}\")\n"
      ],
      "metadata": {
        "colab": {
          "base_uri": "https://localhost:8080/"
        },
        "id": "tVhei5G7uNnX",
        "outputId": "cd8c7725-c712-4de4-97c2-7fa84e01204f"
      },
      "execution_count": 29,
      "outputs": [
        {
          "output_type": "stream",
          "name": "stdout",
          "text": [
            "\n",
            "Similaridade entre 'carro' e 'moto': 0.4999\n"
          ]
        }
      ]
    },
    {
      "cell_type": "code",
      "source": [
        "p1, p2 = 'moto', 'bicicleta'\n",
        "sim = wv_model.similarity(p1, p2)\n",
        "print(f\"\\nSimilaridade entre '{p1}' e '{p2}': {sim:.4f}\")"
      ],
      "metadata": {
        "colab": {
          "base_uri": "https://localhost:8080/"
        },
        "id": "zr7w_ZwUuPLU",
        "outputId": "34ef9279-735e-41f4-9b7c-83a4205f5403"
      },
      "execution_count": 44,
      "outputs": [
        {
          "output_type": "stream",
          "name": "stdout",
          "text": [
            "\n",
            "Similaridade entre 'moto' e 'bicicleta': 0.7902\n"
          ]
        }
      ]
    },
    {
      "cell_type": "markdown",
      "source": [
        "# Analogias"
      ],
      "metadata": {
        "id": "9fK_ZsKdvge9"
      }
    },
    {
      "cell_type": "code",
      "source": [
        "palavra_pos1 = 'ator'\n",
        "palavra_neg1 = 'homem'\n",
        "\n",
        "palavra_pos2 = 'mulher'\n",
        "\n",
        "resultado_analogia = wv_model.most_similar(positive=[palavra_pos1, palavra_pos2], negative=[palavra_neg1], topn=10)\n",
        "print(f\"\\nAnalogia: '{palavra_pos1}' - '{palavra_neg1}' + '{palavra_pos2}' ≈ ?\")\n",
        "print(f\"Resultado:\")\n",
        "for p in resultado_analogia:\n",
        "  print(p)"
      ],
      "metadata": {
        "colab": {
          "base_uri": "https://localhost:8080/"
        },
        "id": "BS154AhgxlQL",
        "outputId": "164a1c76-de80-4ca4-d961-f66e9e724697"
      },
      "execution_count": 67,
      "outputs": [
        {
          "output_type": "stream",
          "name": "stdout",
          "text": [
            "\n",
            "Analogia: 'ator' - 'homem' + 'mulher' ≈ ?\n",
            "Resultado:\n",
            "('atriz', 0.8469098210334778)\n",
            "('fotógrafa', 0.8101131319999695)\n",
            "('novata', 0.8086127638816833)\n",
            "('dançarina', 0.8073809146881104)\n",
            "('escritora', 0.7975529432296753)\n",
            "('bailarina', 0.7927482724189758)\n",
            "('dubladora', 0.7895463109016418)\n",
            "('ex-modelo', 0.7877095341682434)\n",
            "('lutadora', 0.780687689781189)\n",
            "('supermodelo', 0.7770102620124817)\n"
          ]
        }
      ]
    },
    {
      "cell_type": "code",
      "source": [
        "palavra_pos1 = 'tio'\n",
        "palavra_neg1 = 'homem'\n",
        "\n",
        "palavra_pos2 = 'mulher'\n",
        "\n",
        "resultado_analogia = wv_model.most_similar(positive=[palavra_pos1, palavra_pos2], negative=[palavra_neg1], topn=10)\n",
        "print(f\"\\nAnalogia: '{palavra_pos1}' - '{palavra_neg1}' + '{palavra_pos2}' ≈ ?\")\n",
        "print(f\"Resultado:\")\n",
        "for p in resultado_analogia:\n",
        "  print(p)"
      ],
      "metadata": {
        "colab": {
          "base_uri": "https://localhost:8080/"
        },
        "id": "DCZsV3LsyTRP",
        "outputId": "a562c75c-dd9a-4d6d-c13c-8300fd435c99"
      },
      "execution_count": 69,
      "outputs": [
        {
          "output_type": "stream",
          "name": "stdout",
          "text": [
            "\n",
            "Analogia: 'tio' - 'homem' + 'mulher' ≈ ?\n",
            "Resultado:\n",
            "('sobrinha', 0.8224742412567139)\n",
            "('namorada', 0.8083332180976868)\n",
            "('ex-namorada', 0.8058035969734192)\n",
            "('esposa', 0.8007521033287048)\n",
            "('ex-esposa', 0.7953395843505859)\n",
            "('mãe', 0.7949250340461731)\n",
            "('tia-avó', 0.7925654053688049)\n",
            "('enteada', 0.7914786338806152)\n",
            "('companheira', 0.7903515696525574)\n",
            "('filha', 0.7898650169372559)\n"
          ]
        }
      ]
    },
    {
      "cell_type": "code",
      "source": [
        "palavra_pos1 = 'rei'\n",
        "palavra_neg1 = 'homem'\n",
        "\n",
        "palavra_pos2 = 'mulher'\n",
        "\n",
        "resultado_analogia = wv_model.most_similar(positive=[palavra_pos1, palavra_pos2], negative=[palavra_neg1], topn=10)\n",
        "print(f\"\\nAnalogia: '{palavra_pos1}' - '{palavra_neg1}' + '{palavra_pos2}' ≈ ?\")\n",
        "print(f\"Resultado:\")\n",
        "for p in resultado_analogia:\n",
        "  print(p)\n"
      ],
      "metadata": {
        "colab": {
          "base_uri": "https://localhost:8080/"
        },
        "id": "wC_yDEhMs4Gd",
        "outputId": "8257643d-e395-4fae-f2ae-2852e7c50fdc"
      },
      "execution_count": 70,
      "outputs": [
        {
          "output_type": "stream",
          "name": "stdout",
          "text": [
            "\n",
            "Analogia: 'rei' - 'homem' + 'mulher' ≈ ?\n",
            "Resultado:\n",
            "('esposa', 0.7769603133201599)\n",
            "('governanta', 0.7553685903549194)\n",
            "('sucessora', 0.7502477169036865)\n",
            "('sobrinha', 0.7424736618995667)\n",
            "('filha', 0.737616777420044)\n",
            "('concubina', 0.7366868257522583)\n",
            "('satrapia', 0.7352634072303772)\n",
            "('conterrânea', 0.7217562198638916)\n",
            "('madrasta', 0.7210681438446045)\n",
            "('múmia', 0.718513548374176)\n"
          ]
        }
      ]
    },
    {
      "cell_type": "markdown",
      "source": [
        "# Similaridade entre sentenças"
      ],
      "metadata": {
        "id": "dby6iW3_v2iR"
      }
    },
    {
      "cell_type": "code",
      "source": [
        "import numpy as np\n",
        "from numpy.linalg import norm"
      ],
      "metadata": {
        "id": "DcgcUN5gv5Ak"
      },
      "execution_count": 46,
      "outputs": []
    },
    {
      "cell_type": "code",
      "source": [
        "# Assume que 'wv_model' já foi carregado de um passo anterior\n",
        "\n",
        "def calcular_vetor_medio_frase(frase, modelo):\n",
        "    \"\"\"Calcula o vetor médio para uma frase.\"\"\"\n",
        "    palavras = frase.lower().split() # Divide a frase em palavras minúsculas\n",
        "    vetores_palavras = []\n",
        "\n",
        "    for palavra in palavras:\n",
        "        if palavra in modelo: # Verifica se a palavra existe no vocabulário do modelo\n",
        "            vetores_palavras.append(modelo[palavra])\n",
        "\n",
        "    if not vetores_palavras: # Se nenhuma palavra da frase está no modelo\n",
        "        # Retorna um vetor de zeros com a dimensão correta\n",
        "        return np.zeros(modelo.vector_size)\n",
        "\n",
        "    # Calcula a média dos vetores das palavras encontradas\n",
        "    vetor_medio = np.mean(vetores_palavras, axis=0)\n",
        "    return vetor_medio\n",
        "\n",
        "def calcular_similaridade_cosseno(vetor1, vetor2):\n",
        "    \"\"\"Calcula a similaridade do cosseno entre dois vetores numpy.\"\"\"\n",
        "    # Lida com caso de vetores nulos (sem palavras encontradas)\n",
        "    norma1 = norm(vetor1)\n",
        "    norma2 = norm(vetor2)\n",
        "    if norma1 == 0 or norma2 == 0:\n",
        "        return 0.0 # Similaridade é 0 se um dos vetores for nulo\n",
        "\n",
        "    # Fórmula da Similaridade do Cosseno: dot(A, B) / (||A|| * ||B||)\n",
        "    similaridade = np.dot(vetor1, vetor2) / (norma1 * norma2)\n",
        "    return similaridade"
      ],
      "metadata": {
        "id": "HA3AMi-7v9Ed"
      },
      "execution_count": 47,
      "outputs": []
    },
    {
      "cell_type": "code",
      "source": [
        "frase_A = \"como está o tempo hoje\"\n",
        "frase_B = \"qual a previsão do tempo para hoje\"\n",
        "\n",
        "vetor_A = calcular_vetor_medio_frase(frase_A, wv_model)\n",
        "vetor_B = calcular_vetor_medio_frase(frase_B, wv_model)\n",
        "\n",
        "# Calcula e imprime as similaridades\n",
        "sim_AB = calcular_similaridade_cosseno(vetor_A, vetor_B)\n",
        "print(f\"Similaridade entre:\\n '{frase_A}'\\n '{frase_B}'\\n -> {sim_AB:.4f}\")"
      ],
      "metadata": {
        "colab": {
          "base_uri": "https://localhost:8080/"
        },
        "id": "QPVlcggBwKvX",
        "outputId": "e7cd9804-308c-42e0-c967-8fbe5c4f26f3"
      },
      "execution_count": 49,
      "outputs": [
        {
          "output_type": "stream",
          "name": "stdout",
          "text": [
            "Similaridade entre:\n",
            " 'como está o tempo hoje'\n",
            " 'qual a previsão do tempo para hoje'\n",
            " -> 0.4516\n"
          ]
        }
      ]
    },
    {
      "cell_type": "code",
      "source": [
        "frase_A = \"eu quero uma pizza de queijo\"\n",
        "frase_B = \"qual a previsão do tempo para hoje\"\n",
        "\n",
        "vetor_A = calcular_vetor_medio_frase(frase_A, wv_model)\n",
        "vetor_B = calcular_vetor_medio_frase(frase_B, wv_model)\n",
        "\n",
        "# Calcula e imprime as similaridades\n",
        "sim_AB = calcular_similaridade_cosseno(vetor_A, vetor_B)\n",
        "print(f\"Similaridade entre:\\n '{frase_A}'\\n '{frase_B}'\\n -> {sim_AB:.4f}\")"
      ],
      "metadata": {
        "colab": {
          "base_uri": "https://localhost:8080/"
        },
        "id": "1JX2-KOiwXEh",
        "outputId": "42994552-658f-4c84-a074-e576bfe255c9"
      },
      "execution_count": 50,
      "outputs": [
        {
          "output_type": "stream",
          "name": "stdout",
          "text": [
            "Similaridade entre:\n",
            " 'eu quero uma pizza de queijo'\n",
            " 'qual a previsão do tempo para hoje'\n",
            " -> 0.1575\n"
          ]
        }
      ]
    },
    {
      "cell_type": "code",
      "source": [
        "frase_A = \"eu quero uma pizza de queijo\"\n",
        "frase_B = \"vamos comer numa pizzaria hoje?\"\n",
        "\n",
        "vetor_A = calcular_vetor_medio_frase(frase_A, wv_model)\n",
        "vetor_B = calcular_vetor_medio_frase(frase_B, wv_model)\n",
        "\n",
        "# Calcula e imprime as similaridades\n",
        "sim_AB = calcular_similaridade_cosseno(vetor_A, vetor_B)\n",
        "print(f\"Similaridade entre:\\n '{frase_A}'\\n '{frase_B}'\\n -> {sim_AB:.4f}\")"
      ],
      "metadata": {
        "colab": {
          "base_uri": "https://localhost:8080/"
        },
        "id": "lQP9lW4BwcMT",
        "outputId": "15573117-e90d-4cbf-9271-0e02cb2b7bae"
      },
      "execution_count": 51,
      "outputs": [
        {
          "output_type": "stream",
          "name": "stdout",
          "text": [
            "Similaridade entre:\n",
            " 'eu quero uma pizza de queijo'\n",
            " 'vamos comer numa pizzaria hoje?'\n",
            " -> 0.7369\n"
          ]
        }
      ]
    },
    {
      "cell_type": "code",
      "source": [
        "frase_A = \"eu quero uma pizza de queijo\"\n",
        "frase_B = \"vamos comer comida italiana hoje?\"\n",
        "\n",
        "vetor_A = calcular_vetor_medio_frase(frase_A, wv_model)\n",
        "vetor_B = calcular_vetor_medio_frase(frase_B, wv_model)\n",
        "\n",
        "# Calcula e imprime as similaridades\n",
        "sim_AB = calcular_similaridade_cosseno(vetor_A, vetor_B)\n",
        "print(f\"Similaridade entre:\\n '{frase_A}'\\n '{frase_B}'\\n -> {sim_AB:.4f}\")"
      ],
      "metadata": {
        "colab": {
          "base_uri": "https://localhost:8080/"
        },
        "id": "j77KD5Pwwknh",
        "outputId": "042bc522-7f48-45f1-b88e-c19b821359cb"
      },
      "execution_count": 52,
      "outputs": [
        {
          "output_type": "stream",
          "name": "stdout",
          "text": [
            "Similaridade entre:\n",
            " 'eu quero uma pizza de queijo'\n",
            " 'vamos comer comida italiana hoje?'\n",
            " -> 0.7001\n"
          ]
        }
      ]
    }
  ]
}