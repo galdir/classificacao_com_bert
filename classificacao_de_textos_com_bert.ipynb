{
  "nbformat": 4,
  "nbformat_minor": 0,
  "metadata": {
    "colab": {
      "provenance": [],
      "toc_visible": true,
      "gpuType": "T4",
      "authorship_tag": "ABX9TyPNlkLaKOPaCP1L4g7ctsi2",
      "include_colab_link": true
    },
    "kernelspec": {
      "name": "python3",
      "display_name": "Python 3"
    },
    "language_info": {
      "name": "python"
    },
    "accelerator": "GPU"
  },
  "cells": [
    {
      "cell_type": "markdown",
      "metadata": {
        "id": "view-in-github",
        "colab_type": "text"
      },
      "source": [
        "<a href=\"https://colab.research.google.com/github/galdir/classificacao_com_bert/blob/main/classificacao_de_textos_com_bert.ipynb\" target=\"_parent\"><img src=\"https://colab.research.google.com/assets/colab-badge.svg\" alt=\"Open In Colab\"/></a>"
      ]
    },
    {
      "cell_type": "markdown",
      "source": [
        "Classificação de Textos usando BERT"
      ],
      "metadata": {
        "id": "z3RAC5gMqaXN"
      }
    },
    {
      "cell_type": "markdown",
      "source": [
        "# Instalação das bibliotecas necessárias\n"
      ],
      "metadata": {
        "id": "ZYPoeYDXqfD8"
      }
    },
    {
      "cell_type": "code",
      "source": [
        "# Descomente e execute se necessário\n",
        "#!pip install transformers pandas numpy scikit-learn torch datasets"
      ],
      "metadata": {
        "id": "SYPW74_bqk24"
      },
      "execution_count": null,
      "outputs": []
    },
    {
      "cell_type": "code",
      "source": [
        "!pip install datasets"
      ],
      "metadata": {
        "id": "p0XrwJUAzAve"
      },
      "execution_count": null,
      "outputs": []
    },
    {
      "cell_type": "markdown",
      "source": [
        "# Importação das bibliotecas\n"
      ],
      "metadata": {
        "id": "70ht281FqlOT"
      }
    },
    {
      "cell_type": "code",
      "source": [
        "import pandas as pd\n",
        "import numpy as np\n",
        "import torch\n",
        "from transformers import AutoTokenizer, AutoModelForSequenceClassification\n",
        "from transformers import TrainingArguments, Trainer\n",
        "from sklearn.model_selection import train_test_split\n",
        "from datasets import Dataset"
      ],
      "metadata": {
        "id": "EhBKbj3Eqnd-"
      },
      "execution_count": null,
      "outputs": []
    },
    {
      "cell_type": "markdown",
      "source": [
        "# Verificar se GPU está disponível\n"
      ],
      "metadata": {
        "id": "djssNwKy8ON1"
      }
    },
    {
      "cell_type": "code",
      "source": [
        "device = torch.device(\"cuda\" if torch.cuda.is_available() else \"cpu\")\n",
        "print(f\"Usando {device}\")"
      ],
      "metadata": {
        "id": "79qW644L8NXI"
      },
      "execution_count": null,
      "outputs": []
    },
    {
      "cell_type": "markdown",
      "source": [
        "# Baixar e preparar o dataset B2W-Reviews01"
      ],
      "metadata": {
        "id": "mqSnyb5zqpar"
      }
    },
    {
      "cell_type": "code",
      "source": [
        "print(\"Baixando o dataset B2W-Reviews01...\")\n",
        "url = \"https://raw.githubusercontent.com/americanas-tech/b2w-reviews01/refs/heads/main/B2W-Reviews01.csv\"\n",
        "df = pd.read_csv(url, low_memory=False)"
      ],
      "metadata": {
        "id": "1g-nPl-EqrAw"
      },
      "execution_count": null,
      "outputs": []
    },
    {
      "cell_type": "code",
      "source": [
        "df.head()"
      ],
      "metadata": {
        "id": "mci3nMR7sfvx"
      },
      "execution_count": null,
      "outputs": []
    },
    {
      "cell_type": "markdown",
      "source": [
        "# Preparar os dados - apenas textos e sentimentos\n"
      ],
      "metadata": {
        "id": "UTe4ppAfqs_V"
      }
    },
    {
      "cell_type": "code",
      "source": [
        "df = df[['review_text', 'overall_rating']]\n",
        "df.columns = ['texto', 'nota']"
      ],
      "metadata": {
        "id": "9_cO3LF1quM8"
      },
      "execution_count": null,
      "outputs": []
    },
    {
      "cell_type": "code",
      "source": [
        "df.head(10)"
      ],
      "metadata": {
        "id": "g8BiWnIHs7jv"
      },
      "execution_count": null,
      "outputs": []
    },
    {
      "cell_type": "markdown",
      "source": [
        "# Converter notas para sentimento binário (0-negativo, 1-positivo)\n"
      ],
      "metadata": {
        "id": "UkaHfUw7tfO5"
      }
    },
    {
      "cell_type": "code",
      "source": [
        "df = df[(df['nota'] <= 2) | (df['nota'] >= 4)].copy()"
      ],
      "metadata": {
        "id": "iQrC_AaRtnDd"
      },
      "execution_count": null,
      "outputs": []
    },
    {
      "cell_type": "code",
      "source": [
        "df['sentimento'] = df['nota'].apply(lambda x: 1 if x >= 4 else 0)"
      ],
      "metadata": {
        "id": "QaIMTRxoto3b"
      },
      "execution_count": null,
      "outputs": []
    },
    {
      "cell_type": "code",
      "source": [
        "df = df[['texto', 'sentimento']]"
      ],
      "metadata": {
        "id": "JQ25nd4Vtq8-"
      },
      "execution_count": null,
      "outputs": []
    },
    {
      "cell_type": "code",
      "source": [
        "df = df[df['texto'].notna() & (df['texto'] != '')].reset_index(drop=True)"
      ],
      "metadata": {
        "id": "tIJvM8qxtdbh"
      },
      "execution_count": null,
      "outputs": []
    },
    {
      "cell_type": "code",
      "source": [
        "df.head(10)"
      ],
      "metadata": {
        "id": "mBIng4ZAuXuG"
      },
      "execution_count": null,
      "outputs": []
    },
    {
      "cell_type": "markdown",
      "source": [
        "# Verificar distribuição\n"
      ],
      "metadata": {
        "id": "cN26rITKuEso"
      }
    },
    {
      "cell_type": "code",
      "source": [
        "print(f\"Total de exemplos: {len(df)}\")\n",
        "print(f\"Exemplos positivos: {sum(df['sentimento'])}\")\n",
        "print(f\"Exemplos negativos: {len(df) - sum(df['sentimento'])}\")"
      ],
      "metadata": {
        "id": "2QC7tC7BuET3"
      },
      "execution_count": null,
      "outputs": []
    },
    {
      "cell_type": "markdown",
      "source": [
        "# Limitar dataset para processamento mais rápido (opcional)\n"
      ],
      "metadata": {
        "id": "DeiAuxRyuQFd"
      }
    },
    {
      "cell_type": "code",
      "source": [
        "# Usando apenas 1000 exemplos balanceados para demonstração\n",
        "neg = df[df['sentimento'] == 0].sample(500, random_state=42)\n",
        "pos = df[df['sentimento'] == 1].sample(500, random_state=42)\n",
        "df = pd.concat([neg, pos]).sample(frac=1, random_state=42).reset_index(drop=True)"
      ],
      "metadata": {
        "id": "C8FtyE5SuMqz"
      },
      "execution_count": null,
      "outputs": []
    },
    {
      "cell_type": "code",
      "source": [
        "df.shape"
      ],
      "metadata": {
        "id": "VgZbflf94p1G"
      },
      "execution_count": null,
      "outputs": []
    },
    {
      "cell_type": "markdown",
      "source": [
        "# Separar em treino e teste"
      ],
      "metadata": {
        "id": "dK0KPocducic"
      }
    },
    {
      "cell_type": "code",
      "source": [
        "train_df, test_df = train_test_split(df, test_size=0.2, random_state=42)\n"
      ],
      "metadata": {
        "id": "64lrmnsRueR4"
      },
      "execution_count": null,
      "outputs": []
    },
    {
      "cell_type": "markdown",
      "source": [
        "# Carregar o Tokenizador do modelo BERT pré-treinado para português"
      ],
      "metadata": {
        "id": "4sTu1pgKugfL"
      }
    },
    {
      "cell_type": "code",
      "source": [
        "model_name = \"neuralmind/bert-base-portuguese-cased\"\n",
        "tokenizer = AutoTokenizer.from_pretrained(model_name)"
      ],
      "metadata": {
        "id": "8typTnlUuhan"
      },
      "execution_count": null,
      "outputs": []
    },
    {
      "cell_type": "markdown",
      "source": [
        "# Função de pré-processamento para tokenização\n"
      ],
      "metadata": {
        "id": "VuqQI55Uy1MU"
      }
    },
    {
      "cell_type": "code",
      "source": [
        "exemplo = train_df.iloc[0][\"texto\"]\n",
        "exemplo"
      ],
      "metadata": {
        "id": "xV34PSvK02zd"
      },
      "execution_count": null,
      "outputs": []
    },
    {
      "cell_type": "code",
      "source": [
        "tokenizer(exemplo, truncation=True, padding=\"max_length\", max_length=128)"
      ],
      "metadata": {
        "id": "9MFiUKE2zjIN"
      },
      "execution_count": null,
      "outputs": []
    },
    {
      "cell_type": "code",
      "source": [
        "def preprocess_function(examples):\n",
        "    # Tokenizar os textos e definir truncation/padding\n",
        "    tokenized = tokenizer(\n",
        "        examples[\"texto\"],\n",
        "        truncation=True,\n",
        "        padding=\"max_length\",\n",
        "        max_length=128\n",
        "    )\n",
        "\n",
        "    # IMPORTANTE: Adicionar as etiquetas (labels)\n",
        "    tokenized[\"labels\"] = examples[\"sentimento\"]\n",
        "\n",
        "    return tokenized"
      ],
      "metadata": {
        "id": "9p76OMYuyz7O"
      },
      "execution_count": null,
      "outputs": []
    },
    {
      "cell_type": "code",
      "source": [
        "preprocess_function(train_df.iloc[0])"
      ],
      "metadata": {
        "id": "wclbzpx306b5"
      },
      "execution_count": null,
      "outputs": []
    },
    {
      "cell_type": "markdown",
      "source": [
        "# Converter DataFrames para o formato Dataset da biblioteca datasets\n"
      ],
      "metadata": {
        "id": "bUY9EDaFy4Qw"
      }
    },
    {
      "cell_type": "code",
      "source": [
        "train_dataset = Dataset.from_pandas(train_df)\n",
        "test_dataset = Dataset.from_pandas(test_df)"
      ],
      "metadata": {
        "id": "7mU5PoK6y3bS"
      },
      "execution_count": null,
      "outputs": []
    },
    {
      "cell_type": "code",
      "source": [
        "train_dataset"
      ],
      "metadata": {
        "id": "OHorbvs01Way"
      },
      "execution_count": null,
      "outputs": []
    },
    {
      "cell_type": "markdown",
      "source": [
        "# Aplicar tokenização"
      ],
      "metadata": {
        "id": "Vqgw9XfT1S22"
      }
    },
    {
      "cell_type": "code",
      "source": [
        "train_tokenized = train_dataset.map(preprocess_function, batched=True)\n",
        "test_tokenized = test_dataset.map(preprocess_function, batched=True)"
      ],
      "metadata": {
        "id": "Y2GBx9rp1SR9"
      },
      "execution_count": null,
      "outputs": []
    },
    {
      "cell_type": "code",
      "source": [
        "train_tokenized"
      ],
      "metadata": {
        "id": "FzOaMw4_1blF"
      },
      "execution_count": null,
      "outputs": []
    },
    {
      "cell_type": "markdown",
      "source": [
        "# Carregar modelo pretreinado e preparado para classificação"
      ],
      "metadata": {
        "id": "WQ_3N5Yw1kdr"
      }
    },
    {
      "cell_type": "code",
      "source": [
        "model = AutoModelForSequenceClassification.from_pretrained(\n",
        "    model_name,\n",
        "    num_labels=2\n",
        ")"
      ],
      "metadata": {
        "id": "fUld9f6a1lHF"
      },
      "execution_count": null,
      "outputs": []
    },
    {
      "cell_type": "markdown",
      "source": [
        "# Configurar argumentos de treinamento\n"
      ],
      "metadata": {
        "id": "SdLD4OvU1sFS"
      }
    },
    {
      "cell_type": "code",
      "source": [
        "training_args = TrainingArguments(\n",
        "    output_dir=\"./resultados\",\n",
        "    num_train_epochs=1,            # Apenas 1 época para demonstração\n",
        "    per_device_train_batch_size=8,\n",
        "    learning_rate=2e-5,\n",
        ")"
      ],
      "metadata": {
        "id": "xGw7klUi1qve"
      },
      "execution_count": null,
      "outputs": []
    },
    {
      "cell_type": "markdown",
      "source": [
        "# Função para cálculo das métricas"
      ],
      "metadata": {
        "id": "jcJz1qfj26hu"
      }
    },
    {
      "cell_type": "code",
      "source": [
        "def compute_metrics(resultado):\n",
        "    rotulos_verdadeiros = resultado.label_ids\n",
        "    rotulos_preditos = resultado.predictions.argmax(-1)\n",
        "    acc = (rotulos_preditos == rotulos_verdadeiros).mean()\n",
        "    return {\"accuracy\": acc}"
      ],
      "metadata": {
        "id": "EWvzzpN122fL"
      },
      "execution_count": null,
      "outputs": []
    },
    {
      "cell_type": "markdown",
      "source": [
        "# Configurar o treinador\n"
      ],
      "metadata": {
        "id": "PIcWcPY33Dju"
      }
    },
    {
      "cell_type": "code",
      "source": [
        "trainer = Trainer(\n",
        "    model=model,\n",
        "    args=training_args,\n",
        "    train_dataset=train_tokenized,\n",
        "    eval_dataset=test_tokenized,\n",
        "    processing_class=tokenizer,\n",
        "    compute_metrics=compute_metrics,\n",
        ")"
      ],
      "metadata": {
        "id": "yd0HhxHZ3DxW"
      },
      "execution_count": null,
      "outputs": []
    },
    {
      "cell_type": "markdown",
      "source": [
        "# Treinar o modelo\n"
      ],
      "metadata": {
        "id": "I6rwI04Q3Wih"
      }
    },
    {
      "cell_type": "code",
      "source": [
        "print(\"\\nIniciando treinamento...\")\n",
        "trainer.train()"
      ],
      "metadata": {
        "id": "YU8aro6_3YNB"
      },
      "execution_count": null,
      "outputs": []
    },
    {
      "cell_type": "markdown",
      "source": [
        "# Avaliar o modelo\n"
      ],
      "metadata": {
        "id": "egT4qH0X72i-"
      }
    },
    {
      "cell_type": "code",
      "source": [
        "print(\"\\nAvaliando o modelo...\")\n",
        "eval_results = trainer.evaluate()\n",
        "print(f\"Acurácia: {eval_results['eval_accuracy']:.4f}\")"
      ],
      "metadata": {
        "id": "NduWbxIF4bLV"
      },
      "execution_count": null,
      "outputs": []
    },
    {
      "cell_type": "markdown",
      "source": [
        "# Função para classificar novos textos\n"
      ],
      "metadata": {
        "id": "quDMswFj76Ur"
      }
    },
    {
      "cell_type": "code",
      "source": [
        "def classificar_texto(texto):\n",
        "    inputs = tokenizer(texto, return_tensors=\"pt\", truncation=True, padding=True, max_length=128)\n",
        "    inputs = {k: v.to(device) for k, v in inputs.items()}\n",
        "\n",
        "    with torch.no_grad():\n",
        "        outputs = model(**inputs)\n",
        "\n",
        "    pred = outputs.logits.argmax(dim=-1).item()\n",
        "    sentimento = \"Positivo\" if pred == 1 else \"Negativo\"\n",
        "\n",
        "    return sentimento"
      ],
      "metadata": {
        "id": "cvRnHNVp762R"
      },
      "execution_count": null,
      "outputs": []
    },
    {
      "cell_type": "markdown",
      "source": [
        "# Testar com novos exemplos"
      ],
      "metadata": {
        "id": "UpKN0Jft7-uO"
      }
    },
    {
      "cell_type": "code",
      "source": [
        "texto = \"Produto excelente, entrega rápida e atendimento nota 10!\"\n",
        "\n",
        "print(f\"\\nTexto: {texto}\")\n",
        "\n",
        "sentimento = classificar_texto(texto)\n",
        "\n",
        "print(f\"Classificação: {sentimento}\")"
      ],
      "metadata": {
        "id": "KYcdcRzB8Wep"
      },
      "execution_count": null,
      "outputs": []
    },
    {
      "cell_type": "code",
      "source": [
        "texto = \"Péssima experiência, o produto veio quebrado e o suporte não resolveu.\"\n",
        "\n",
        "print(f\"\\nTexto: {texto}\")\n",
        "\n",
        "sentimento = classificar_texto(texto)\n",
        "\n",
        "print(f\"Classificação: {sentimento}\")"
      ],
      "metadata": {
        "id": "NUk526Yg8fEI"
      },
      "execution_count": null,
      "outputs": []
    },
    {
      "cell_type": "code",
      "source": [
        "texto = \"eu recomendaria\"\n",
        "\n",
        "print(f\"\\nTexto: {texto}\")\n",
        "\n",
        "sentimento = classificar_texto(texto)\n",
        "\n",
        "print(f\"Classificação: {sentimento}\")"
      ],
      "metadata": {
        "id": "Kb5hnpRt8q-q"
      },
      "execution_count": null,
      "outputs": []
    },
    {
      "cell_type": "code",
      "source": [
        "texto = \"eu desrecomendaria\"\n",
        "\n",
        "print(f\"\\nTexto: {texto}\")\n",
        "\n",
        "sentimento = classificar_texto(texto)\n",
        "\n",
        "print(f\"Classificação: {sentimento}\")"
      ],
      "metadata": {
        "id": "jtIGCbYu8n-_"
      },
      "execution_count": null,
      "outputs": []
    },
    {
      "cell_type": "code",
      "source": [
        "texto = \"normal, não supreendeu.\"\n",
        "\n",
        "print(f\"\\nTexto: {texto}\")\n",
        "\n",
        "sentimento = classificar_texto(texto)\n",
        "\n",
        "print(f\"Classificação: {sentimento}\")"
      ],
      "metadata": {
        "id": "BXL40z7N8huU"
      },
      "execution_count": null,
      "outputs": []
    },
    {
      "cell_type": "code",
      "source": [],
      "metadata": {
        "id": "FvgJmVXb8QL8"
      },
      "execution_count": null,
      "outputs": []
    }
  ]
}