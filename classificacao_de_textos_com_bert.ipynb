{
 "cells": [
  {
   "cell_type": "markdown",
   "metadata": {
    "id": "z3RAC5gMqaXN"
   },
   "source": [
    "Classificação de Textos usando BERT"
   ]
  },
  {
   "cell_type": "markdown",
   "metadata": {
    "id": "ZYPoeYDXqfD8"
   },
   "source": [
    "# Instalação das bibliotecas necessárias\n"
   ]
  },
  {
   "cell_type": "code",
   "execution_count": null,
   "metadata": {
    "id": "SYPW74_bqk24"
   },
   "outputs": [],
   "source": [
    "# Descomente e execute se necessário\n",
    "#!pip install transformers pandas numpy scikit-learn torch datasets"
   ]
  },
  {
   "cell_type": "code",
   "execution_count": null,
   "metadata": {
    "colab": {
     "base_uri": "https://localhost:8080/"
    },
    "id": "p0XrwJUAzAve",
    "outputId": "80818c42-f7bd-4f6d-b643-a119dc71ded0"
   },
   "outputs": [],
   "source": [
    "!pip install datasets"
   ]
  },
  {
   "cell_type": "markdown",
   "metadata": {
    "id": "70ht281FqlOT"
   },
   "source": [
    "# Importação das bibliotecas\n"
   ]
  },
  {
   "cell_type": "code",
   "execution_count": null,
   "metadata": {
    "id": "EhBKbj3Eqnd-"
   },
   "outputs": [],
   "source": [
    "import pandas as pd\n",
    "import numpy as np\n",
    "import torch\n",
    "from transformers import AutoTokenizer, AutoModelForSequenceClassification\n",
    "from transformers import TrainingArguments, Trainer\n",
    "from sklearn.model_selection import train_test_split\n",
    "from datasets import Dataset"
   ]
  },
  {
   "cell_type": "markdown",
   "metadata": {
    "id": "djssNwKy8ON1"
   },
   "source": [
    "# Verificar se GPU está disponível\n"
   ]
  },
  {
   "cell_type": "code",
   "execution_count": null,
   "metadata": {
    "colab": {
     "base_uri": "https://localhost:8080/"
    },
    "id": "79qW644L8NXI",
    "outputId": "d47431d7-960a-498b-9f40-8faaa53e7901"
   },
   "outputs": [],
   "source": [
    "dispositivo = torch.device(\"cuda\" if torch.cuda.is_available() else \"cpu\")\n",
    "print(f\"Usando {dispositivo}\")"
   ]
  },
  {
   "cell_type": "markdown",
   "metadata": {
    "id": "mqSnyb5zqpar"
   },
   "source": [
    "# Baixar e preparar o dataset B2W-Reviews01"
   ]
  },
  {
   "cell_type": "markdown",
   "metadata": {
    "id": "aKr1xoV8ZPSi"
   },
   "source": [
    "https://github.com/americanas-tech/b2w-reviews01/tree/main"
   ]
  },
  {
   "cell_type": "code",
   "execution_count": null,
   "metadata": {
    "colab": {
     "base_uri": "https://localhost:8080/"
    },
    "id": "1g-nPl-EqrAw",
    "outputId": "1dd9ec2a-3fc8-4fb4-d297-5794a9bfe6a9"
   },
   "outputs": [],
   "source": [
    "print(\"Baixando o dataset B2W-Reviews01...\")\n",
    "url = \"https://raw.githubusercontent.com/americanas-tech/b2w-reviews01/refs/heads/main/B2W-Reviews01.csv\"\n",
    "df = pd.read_csv(url, low_memory=False)"
   ]
  },
  {
   "cell_type": "code",
   "execution_count": null,
   "metadata": {
    "colab": {
     "base_uri": "https://localhost:8080/",
     "height": 591
    },
    "id": "mci3nMR7sfvx",
    "outputId": "dd97bd33-e08d-4c49-bfea-f42f7993ae75"
   },
   "outputs": [],
   "source": [
    "df.head()"
   ]
  },
  {
   "cell_type": "markdown",
   "metadata": {
    "id": "UTe4ppAfqs_V"
   },
   "source": [
    "# Preparar os dados - apenas textos e sentimentos\n"
   ]
  },
  {
   "cell_type": "code",
   "execution_count": null,
   "metadata": {
    "id": "9_cO3LF1quM8"
   },
   "outputs": [],
   "source": [
    "df = df[['review_text', 'overall_rating']]\n",
    "df.columns = ['texto', 'nota']"
   ]
  },
  {
   "cell_type": "code",
   "execution_count": null,
   "metadata": {
    "colab": {
     "base_uri": "https://localhost:8080/",
     "height": 363
    },
    "id": "g8BiWnIHs7jv",
    "outputId": "09e8e00d-dd53-4f0b-d870-ae046bfac88b"
   },
   "outputs": [],
   "source": [
    "df.head(10)"
   ]
  },
  {
   "cell_type": "markdown",
   "metadata": {
    "id": "UkaHfUw7tfO5"
   },
   "source": [
    "## Converter notas para sentimento binário (0-negativo, 1-positivo)\n"
   ]
  },
  {
   "cell_type": "code",
   "execution_count": null,
   "metadata": {
    "id": "iQrC_AaRtnDd"
   },
   "outputs": [],
   "source": [
    "df = df[(df['nota'] <= 2) | (df['nota'] >= 4)].copy()"
   ]
  },
  {
   "cell_type": "code",
   "execution_count": null,
   "metadata": {
    "id": "QaIMTRxoto3b"
   },
   "outputs": [],
   "source": [
    "df['sentimento'] = df['nota'].apply(lambda x: 1 if x >= 4 else 0)"
   ]
  },
  {
   "cell_type": "code",
   "execution_count": null,
   "metadata": {
    "id": "JQ25nd4Vtq8-"
   },
   "outputs": [],
   "source": [
    "df = df[['texto', 'sentimento']]"
   ]
  },
  {
   "cell_type": "code",
   "execution_count": null,
   "metadata": {
    "id": "tIJvM8qxtdbh"
   },
   "outputs": [],
   "source": [
    "df = df[df['texto'].notna() & (df['texto'] != '')].reset_index(drop=True)"
   ]
  },
  {
   "cell_type": "code",
   "execution_count": null,
   "metadata": {
    "colab": {
     "base_uri": "https://localhost:8080/",
     "height": 363
    },
    "id": "mBIng4ZAuXuG",
    "outputId": "c2ae583a-f709-4b6e-f99f-1217ab5a8baf"
   },
   "outputs": [],
   "source": [
    "df.head(10)"
   ]
  },
  {
   "cell_type": "markdown",
   "metadata": {
    "id": "cN26rITKuEso"
   },
   "source": [
    "## Verificar distribuição\n"
   ]
  },
  {
   "cell_type": "code",
   "execution_count": null,
   "metadata": {
    "colab": {
     "base_uri": "https://localhost:8080/"
    },
    "id": "2QC7tC7BuET3",
    "outputId": "9f583eba-8e5b-438b-b5cf-fd1df3fc3168"
   },
   "outputs": [],
   "source": [
    "print(f\"Total de exemplos: {len(df)}\")\n",
    "print(f\"Exemplos positivos: {sum(df['sentimento'])}\")\n",
    "print(f\"Exemplos negativos: {len(df) - sum(df['sentimento'])}\")"
   ]
  },
  {
   "cell_type": "markdown",
   "metadata": {
    "id": "DeiAuxRyuQFd"
   },
   "source": [
    "## Limitar dataset para processamento mais rápido\n"
   ]
  },
  {
   "cell_type": "code",
   "execution_count": null,
   "metadata": {
    "id": "C8FtyE5SuMqz"
   },
   "outputs": [],
   "source": [
    "# Usando apenas 1000 exemplos balanceados para demonstração\n",
    "neg = df[df['sentimento'] == 0].sample(500, random_state=42)\n",
    "pos = df[df['sentimento'] == 1].sample(500, random_state=42)\n",
    "df = pd.concat([neg, pos]).sample(frac=1, random_state=42).reset_index(drop=True)"
   ]
  },
  {
   "cell_type": "code",
   "execution_count": null,
   "metadata": {
    "colab": {
     "base_uri": "https://localhost:8080/"
    },
    "id": "VgZbflf94p1G",
    "outputId": "168661f1-ec1d-4496-c3bd-a92689d4239c"
   },
   "outputs": [],
   "source": [
    "df.shape"
   ]
  },
  {
   "cell_type": "markdown",
   "metadata": {
    "id": "dK0KPocducic"
   },
   "source": [
    "## Separar em treino e teste"
   ]
  },
  {
   "cell_type": "code",
   "execution_count": null,
   "metadata": {
    "id": "64lrmnsRueR4"
   },
   "outputs": [],
   "source": [
    "train_df, test_df = train_test_split(df, test_size=0.2, random_state=42)\n"
   ]
  },
  {
   "cell_type": "markdown",
   "metadata": {
    "id": "p04DEDQBaEDq"
   },
   "source": [
    "# Tokenização"
   ]
  },
  {
   "cell_type": "markdown",
   "metadata": {
    "id": "4sTu1pgKugfL"
   },
   "source": [
    "## Carregar o Tokenizador do modelo BERT pré-treinado para português"
   ]
  },
  {
   "cell_type": "code",
   "execution_count": null,
   "metadata": {
    "colab": {
     "base_uri": "https://localhost:8080/",
     "height": 281,
     "referenced_widgets": [
      "2c552b4147a446e6b23b5e14d4ae0e93",
      "532360de930d43f896973f61514a7831",
      "1b52b52986ac461bb82301d12f3576f8",
      "d3e259b6409740ebbaa52634fbc3c137",
      "c68169e444644dadabca112555b1af31",
      "7bb923b9fa0d44dfa7ecdb23348695a5",
      "7bf7443ed79642b38076d8b4df6b39ca",
      "415a65132ae34c25a9abf91579f4b542",
      "a1e3e6009dab43769580be15d8197b2b",
      "03e56d1b9b43430ea588e721c5c65fc5",
      "dd277eceac7a4b179de8b18cac776666",
      "90367fa6dc5e4c969bee5940c6225b6d",
      "97faeab7b543475b99882c9e19c75ae9",
      "62033ecaae59443487308f3ab9c729f8",
      "5cc6f7b2b286433983729b7b2fe2316a",
      "62896ad793fb407293d67907202c2db6",
      "72f7299db6c141f5a55eeceb9e1cc1ef",
      "7db91a3ece4f4530a8f782081fcd0123",
      "dab43ecd8fb14d71bcb4524f1e5effb3",
      "c792b5fffa1b464d9e2b52d6aef260cd",
      "dbbf50b1420e4b5184890b3ecdf5b07f",
      "abed19e80f554ef5a054ff178fac834c",
      "eb519c28d830490da7d75f1113869283",
      "89be0a2e9fc44ae0887dee0bc14a7871",
      "d0b12a759e094e9c86bb5baec11e0969",
      "ff966ec5c5d74531b24b27802e6fa076",
      "b5e75f7ca8a94bb7ab11ce40f07d9251",
      "058c7bcc71884beda63ce961ef790d76",
      "37865a85b2674fbab788f693aa682d81",
      "94fe7459bff24a1c91599673374e343a",
      "7205e9436e444907ad3ab946dcce3d43",
      "0a184dda5bca4fcc85a5084eeb977677",
      "71c48db555de4921b7fd22bed935bec6",
      "33504dac8c224842983d9ce4251879fd",
      "bf4437a7b4f148f380b4d690d8fad233",
      "4b95e0040aea400db1d1a1943af5d1df",
      "7e8c4eeabf224ba6b64a6998cdae03fa",
      "0b7004350e024c22bbd4ed54411cc77b",
      "c11ec1b6ce704ba8a7a7a0608e69cbc8",
      "f2f6bd76ae774411ba5cca71aa47c443",
      "b57d435b9d7046ad8bb86b7174c74f7d",
      "602a8c3d0d494d4eb74ef43c0c1b3fbe",
      "069f2b46268e43698539f30430198915",
      "406923164ea84bf990c2c3476541f077",
      "de66cb94a476481e83749240f0c1999b",
      "cc164befa7fc4a78a6d64ce1d5dbb9ad",
      "6dc20e10a63547989ee8252fba28108c",
      "30904d6f7e3d467e92074ec8dc20712f",
      "d0a923349bd6445d9dc268d49fbe09af",
      "e72ab5af86344a28985995337816cce6",
      "8a7452ae76c84012be22a66541808da5",
      "e5f2bc0833734c208c47eb9995406099",
      "e86dc008acf246209de3610c4b380ce5",
      "c8be291dce5343059214ea74c7813593",
      "d17f363aa974456ca48ee1330d9cfef0"
     ]
    },
    "id": "8typTnlUuhan",
    "outputId": "064088a4-650c-4663-ac7f-92fde026e3b4"
   },
   "outputs": [],
   "source": [
    "model_name = \"neuralmind/bert-base-portuguese-cased\"\n",
    "tokenizer = AutoTokenizer.from_pretrained(model_name)"
   ]
  },
  {
   "cell_type": "markdown",
   "metadata": {
    "id": "VuqQI55Uy1MU"
   },
   "source": [
    "## Função de pré-processamento para tokenização\n"
   ]
  },
  {
   "cell_type": "code",
   "execution_count": null,
   "metadata": {
    "colab": {
     "base_uri": "https://localhost:8080/",
     "height": 35
    },
    "id": "xV34PSvK02zd",
    "outputId": "0dded182-1602-4d00-acd2-62868408e624"
   },
   "outputs": [],
   "source": [
    "exemplo = train_df.iloc[0][\"texto\"]\n",
    "exemplo"
   ]
  },
  {
   "cell_type": "code",
   "execution_count": null,
   "metadata": {
    "colab": {
     "base_uri": "https://localhost:8080/"
    },
    "id": "9MFiUKE2zjIN",
    "outputId": "2b91384a-ba31-45b9-c390-9a4215cccfe1"
   },
   "outputs": [],
   "source": [
    "tokenizer(exemplo, truncation=True, padding=\"max_length\", max_length=128)"
   ]
  },
  {
   "cell_type": "code",
   "execution_count": null,
   "metadata": {
    "id": "9p76OMYuyz7O"
   },
   "outputs": [],
   "source": [
    "def preprocess_function(examples):\n",
    "    # Tokenizar os textos e definir truncation/padding\n",
    "    tokenized = tokenizer(\n",
    "        examples[\"texto\"],\n",
    "        truncation=True,\n",
    "        padding=\"max_length\",\n",
    "        max_length=128\n",
    "    )\n",
    "\n",
    "    # IMPORTANTE: Adicionar as etiquetas (labels)\n",
    "    tokenized[\"labels\"] = examples[\"sentimento\"]\n",
    "\n",
    "    return tokenized"
   ]
  },
  {
   "cell_type": "code",
   "execution_count": null,
   "metadata": {
    "colab": {
     "base_uri": "https://localhost:8080/"
    },
    "id": "wclbzpx306b5",
    "outputId": "41404ad8-ea14-4ccc-ca2f-274e5af0001c"
   },
   "outputs": [],
   "source": [
    "preprocess_function(train_df.iloc[0])"
   ]
  },
  {
   "cell_type": "markdown",
   "metadata": {
    "id": "bUY9EDaFy4Qw"
   },
   "source": [
    "## Converter DataFrames para o formato compatível com o Pytorch\n"
   ]
  },
  {
   "cell_type": "code",
   "execution_count": null,
   "metadata": {
    "id": "7mU5PoK6y3bS"
   },
   "outputs": [],
   "source": [
    "train_dataset = Dataset.from_pandas(train_df)\n",
    "test_dataset = Dataset.from_pandas(test_df)"
   ]
  },
  {
   "cell_type": "code",
   "execution_count": null,
   "metadata": {
    "colab": {
     "base_uri": "https://localhost:8080/"
    },
    "id": "OHorbvs01Way",
    "outputId": "5476b7d3-ed67-4d03-b00e-7b7996cb778e"
   },
   "outputs": [],
   "source": [
    "train_dataset"
   ]
  },
  {
   "cell_type": "markdown",
   "metadata": {
    "id": "Vqgw9XfT1S22"
   },
   "source": [
    "## Aplicar tokenização"
   ]
  },
  {
   "cell_type": "code",
   "execution_count": null,
   "metadata": {
    "colab": {
     "base_uri": "https://localhost:8080/",
     "height": 81,
     "referenced_widgets": [
      "a5e6290c5d084ab58432cba247c5cdaa",
      "847685cbddd14ae992cf756e3f1d989c",
      "9a66bd882494481ebbde2de7d0338359",
      "c55750c4d8414cdd8b734a3f5e247466",
      "d30c658d59c64bb7866a9d93eb3d0450",
      "153fc71f182a4836993ed2296116adce",
      "9d6a087388ac41b7bf2a4dbbf5d269c7",
      "c04f395cb0f24b5a8cd7618e1c55c0b2",
      "949109caa267411c8103b2542e6f4dfc",
      "13607214b0c0407089ebb946c5f1ce23",
      "f249985e82d44b4392f6a709ca2de050",
      "41db0e3a1b86441a84168c445879e2ef",
      "fc4bcdb320124458824cfaaea1964e46",
      "44077aa96c2e4e6ca00447a79a3678eb",
      "a726dc8cde604eceb59595499907db01",
      "819587e738ce41d3ba465086a9d4dfca",
      "a4b29729fea84acaaa8be40274975963",
      "79f90bbbbb724a76bebc0a29e5e642a3",
      "a741e55827ca4a09885eaad72352ac85",
      "dd24cb54edd34302a66fe00e6138abf1",
      "940ca63f4ae84b489aa50168fd154fbf",
      "765bcf126067498db7c9d473ad9bfe81"
     ]
    },
    "id": "Y2GBx9rp1SR9",
    "outputId": "e67fcf3e-6d5d-4524-e680-fbc4378fb5ff"
   },
   "outputs": [],
   "source": [
    "train_tokenized = train_dataset.map(preprocess_function, batched=True)\n",
    "test_tokenized = test_dataset.map(preprocess_function, batched=True)"
   ]
  },
  {
   "cell_type": "code",
   "execution_count": null,
   "metadata": {
    "colab": {
     "base_uri": "https://localhost:8080/"
    },
    "id": "FzOaMw4_1blF",
    "outputId": "aa470de8-2167-474d-bfbb-6459289f8a16"
   },
   "outputs": [],
   "source": [
    "train_tokenized"
   ]
  },
  {
   "cell_type": "markdown",
   "metadata": {
    "id": "b9N7rnapaVkF"
   },
   "source": [
    "# Preparar o modelo para treinamento"
   ]
  },
  {
   "cell_type": "markdown",
   "metadata": {
    "id": "WQ_3N5Yw1kdr"
   },
   "source": [
    "## Carregar modelo pretreinado e preparado para classificação"
   ]
  },
  {
   "cell_type": "code",
   "execution_count": null,
   "metadata": {
    "colab": {
     "base_uri": "https://localhost:8080/",
     "height": 136,
     "referenced_widgets": [
      "715122f4644e422baaac3bbe6d62738e",
      "0464f94b07de41d88bc356d9bff8994c",
      "e35bc242d8d54e968c0ad6d9e0458c6b",
      "6cd6d7683e2846699cf7e4d03babfd90",
      "21a9549f34bd4ccab57c2a99698c75a1",
      "818a721956784505a056b063209312f9",
      "4bf4057c0f054b35a93504d8d69d5dc5",
      "1a7af3d76b2147b29461a37c1f8fc497",
      "93df21661cd54af99cc600608d3e2f16",
      "32ac1ac267e5472e9ccc7528e33354a9",
      "a6ae74253d3043a8b1987c391c90ed2f",
      "db740365a51f40e0936fae00b07eb2ca",
      "e02e15b9cec2406d957a0ff8ddceb9ac",
      "ef9efa7cf7204b35bda58650582bb717",
      "9c6b65d5b6564d55918340e6b019789b",
      "1aac5cf51f204670a0158052dab0f0b2",
      "7d81b9fc61134455a5017ed68835b722",
      "dcd6eb747c73451988b1aee940f84f07",
      "cbe537dd1e5945188084d45263099740",
      "3e6a36cf5f3a4a268e277719f8dbcb14",
      "038f8ccc950341e8ac03f6dde9dc4d3c",
      "41af87c3d782442687430e7d4fddea06"
     ]
    },
    "id": "fUld9f6a1lHF",
    "outputId": "7d0c67c7-572e-4054-b355-dca8071b85e0"
   },
   "outputs": [],
   "source": [
    "model = AutoModelForSequenceClassification.from_pretrained(\n",
    "    model_name,\n",
    "    num_labels=2,\n",
    "    device_map=\"auto\"\n",
    ")"
   ]
  },
  {
   "cell_type": "code",
   "execution_count": null,
   "metadata": {
    "colab": {
     "base_uri": "https://localhost:8080/"
    },
    "id": "-egQk5w4DSVC",
    "outputId": "e20de333-7651-4403-d321-0c2ae19c7f27"
   },
   "outputs": [],
   "source": [
    "model"
   ]
  },
  {
   "cell_type": "markdown",
   "metadata": {
    "id": "l5M4DK2g9_F1"
   },
   "source": [
    "## Similaridade com embeddings do BERT"
   ]
  },
  {
   "cell_type": "code",
   "execution_count": null,
   "metadata": {
    "colab": {
     "base_uri": "https://localhost:8080/",
     "height": 34
    },
    "id": "uE-Xxn-x_CXg",
    "outputId": "163b336f-32da-4a6f-9963-be9149811d9f"
   },
   "outputs": [],
   "source": [
    "texto = \"Este produto é excelente e durável.\"\n",
    "\n",
    "# Tokenizar o texto\n",
    "entradas = tokenizer(texto, return_tensors=\"pt\", padding=True, truncation=True)\n",
    "\n",
    "# Mover inputs para o mesmo dispositivo que o modelo\n",
    "entradas = {k: v.to(dispositivo) for k, v in entradas.items()}\n",
    "\n",
    "# Obter embeddings (representação vetorial) da frase\n",
    "with torch.no_grad():\n",
    "    outputs = model(**entradas, output_hidden_states=True)\n"
   ]
  },
  {
   "cell_type": "code",
   "execution_count": null,
   "metadata": {
    "colab": {
     "base_uri": "https://localhost:8080/",
     "height": 1000
    },
    "id": "GE4odtsJ_5eO",
    "outputId": "7e9aa4e7-5caf-40ea-cbe2-722cd06f3b73"
   },
   "outputs": [],
   "source": [
    "outputs"
   ]
  },
  {
   "cell_type": "code",
   "execution_count": null,
   "metadata": {
    "colab": {
     "base_uri": "https://localhost:8080/"
    },
    "id": "-JiK2zL5_rSp",
    "outputId": "93be02ba-7501-4c50-e9f2-936675a300db"
   },
   "outputs": [],
   "source": [
    "outputs.keys()"
   ]
  },
  {
   "cell_type": "markdown",
   "metadata": {
    "id": "RnCFfSKxANdV"
   },
   "source": [
    "logits é a saida de classificacão... que não treinamos ainda e não fazem sentido agora"
   ]
  },
  {
   "cell_type": "code",
   "execution_count": null,
   "metadata": {
    "colab": {
     "base_uri": "https://localhost:8080/"
    },
    "id": "Qw4VFoIwAacz",
    "outputId": "3823832c-a0a3-4510-ac12-5cd3fe28c988"
   },
   "outputs": [],
   "source": [
    "outputs.logits"
   ]
  },
  {
   "cell_type": "markdown",
   "metadata": {
    "id": "BL3W7QQ4AwO3"
   },
   "source": [
    "hidden_states são as representações internas que o modelo constrói"
   ]
  },
  {
   "cell_type": "code",
   "execution_count": null,
   "metadata": {
    "colab": {
     "base_uri": "https://localhost:8080/"
    },
    "id": "CUbsrugQADzl",
    "outputId": "cc1f2580-be31-4a48-ec27-96c11a027086"
   },
   "outputs": [],
   "source": [
    "outputs.hidden_states[-1].shape"
   ]
  },
  {
   "cell_type": "code",
   "execution_count": null,
   "metadata": {
    "id": "BNOsRvO__4J5"
   },
   "outputs": [],
   "source": [
    "def obter_embedding(texto):\n",
    "    # Tokenizar o texto\n",
    "    inputs = tokenizer(texto, return_tensors=\"pt\", padding=True, truncation=True)\n",
    "\n",
    "    # Mover inputs para o mesmo dispositivo que o modelo\n",
    "    inputs = {k: v.to(dispositivo) for k, v in inputs.items()}\n",
    "\n",
    "    # Obter embeddings (representação vetorial) da frase\n",
    "    with torch.no_grad():\n",
    "        outputs = model(**inputs, output_hidden_states=True)\n",
    "\n",
    "    # Usar a representação da camada de saída [CLS]\n",
    "    # O token [CLS] (primeiro token) contém a representação da frase inteira\n",
    "    embedding = outputs.hidden_states[-1][0, 0, :].cpu().numpy()\n",
    "    return embedding"
   ]
  },
  {
   "cell_type": "code",
   "execution_count": null,
   "metadata": {
    "id": "vuUgTztSAAQ3"
   },
   "outputs": [],
   "source": [
    "def calcular_similaridade(frase1, frase2):\n",
    "    # Obter embeddings para cada frase\n",
    "    emb1 = obter_embedding(frase1)\n",
    "    emb2 = obter_embedding(frase2)\n",
    "\n",
    "    # Normalizar os vetores\n",
    "    emb1_norm = emb1 / np.linalg.norm(emb1)\n",
    "    emb2_norm = emb2 / np.linalg.norm(emb2)\n",
    "\n",
    "    # Calcular similaridade de cosseno\n",
    "    similaridade = np.dot(emb1_norm, emb2_norm)\n",
    "    return similaridade"
   ]
  },
  {
   "cell_type": "code",
   "execution_count": null,
   "metadata": {
    "colab": {
     "base_uri": "https://localhost:8080/",
     "height": 34
    },
    "id": "AFw4wu7SBS5k",
    "outputId": "2dc7b4d9-16fe-4eda-dd3d-9d5fcd7e54d0"
   },
   "outputs": [],
   "source": [
    "frase1= \"Este produto é excelente e durável.\"\n",
    "frase2= \"Este produto é ruim e ineficiente.\"\n",
    "\n",
    "calcular_similaridade(frase1, frase2)"
   ]
  },
  {
   "cell_type": "code",
   "execution_count": null,
   "metadata": {
    "colab": {
     "base_uri": "https://localhost:8080/"
    },
    "id": "lPpBxm1SBZad",
    "outputId": "4d9568e4-9cea-4e93-e56d-4ae1a214cfc4"
   },
   "outputs": [],
   "source": [
    "frase1= \"Este produto é excelente e durável.\"\n",
    "frase2= \"O produto tem ótima qualidade e é resistente.\"\n",
    "\n",
    "calcular_similaridade(frase1, frase2)"
   ]
  },
  {
   "cell_type": "code",
   "execution_count": null,
   "metadata": {
    "colab": {
     "base_uri": "https://localhost:8080/"
    },
    "id": "xcDirMynBi5U",
    "outputId": "e93b5e46-9748-4b9c-ae0f-6b2f0691d707"
   },
   "outputs": [],
   "source": [
    "frase1= \"Este produto é excelente e durável.\"\n",
    "frase2= \"Subi num ônibus em madagascar\"\n",
    "\n",
    "calcular_similaridade(frase1, frase2)"
   ]
  },
  {
   "cell_type": "markdown",
   "metadata": {
    "id": "YsndtxAEaqCU"
   },
   "source": [
    "# Treinamento"
   ]
  },
  {
   "cell_type": "markdown",
   "metadata": {
    "id": "SdLD4OvU1sFS"
   },
   "source": [
    "## Configurar argumentos de treinamento\n"
   ]
  },
  {
   "cell_type": "code",
   "execution_count": null,
   "metadata": {
    "id": "xGw7klUi1qve"
   },
   "outputs": [],
   "source": [
    "training_args = TrainingArguments(\n",
    "    output_dir=\"./resultados\",\n",
    "    num_train_epochs=1,            # Apenas 1 época para demonstração\n",
    "    #per_device_train_batch_size=8,\n",
    "    #learning_rate=2e-5,\n",
    ")"
   ]
  },
  {
   "cell_type": "markdown",
   "metadata": {
    "id": "jcJz1qfj26hu"
   },
   "source": [
    "## Função para cálculo das métricas"
   ]
  },
  {
   "cell_type": "code",
   "execution_count": null,
   "metadata": {
    "id": "EWvzzpN122fL"
   },
   "outputs": [],
   "source": [
    "def compute_metrics(resultado):\n",
    "    rotulos_verdadeiros = resultado.label_ids\n",
    "    rotulos_preditos = resultado.predictions.argmax(-1)\n",
    "    acc = (rotulos_preditos == rotulos_verdadeiros).mean()\n",
    "    return {\"accuracy\": acc}"
   ]
  },
  {
   "cell_type": "markdown",
   "metadata": {
    "id": "PIcWcPY33Dju"
   },
   "source": [
    "## Configurar o treinador\n"
   ]
  },
  {
   "cell_type": "code",
   "execution_count": null,
   "metadata": {
    "id": "yd0HhxHZ3DxW"
   },
   "outputs": [],
   "source": [
    "trainer = Trainer(\n",
    "    model=model,\n",
    "    args=training_args,\n",
    "    train_dataset=train_tokenized,\n",
    "    eval_dataset=test_tokenized,\n",
    "    processing_class=tokenizer,\n",
    "    compute_metrics=compute_metrics,\n",
    ")"
   ]
  },
  {
   "cell_type": "markdown",
   "metadata": {
    "id": "I6rwI04Q3Wih"
   },
   "source": [
    "## Treinar o modelo\n"
   ]
  },
  {
   "cell_type": "code",
   "execution_count": null,
   "metadata": {
    "colab": {
     "base_uri": "https://localhost:8080/",
     "height": 38
    },
    "id": "I7E0kImRnHG8",
    "outputId": "a0076387-a418-4236-bc7c-dc07ffaf82ea"
   },
   "outputs": [],
   "source": [
    "import wandb\n",
    "wandb.init(mode=\"disabled\")"
   ]
  },
  {
   "cell_type": "code",
   "execution_count": null,
   "metadata": {
    "colab": {
     "base_uri": "https://localhost:8080/",
     "height": 145
    },
    "id": "YU8aro6_3YNB",
    "outputId": "f8cc8915-a2b1-4d78-89fb-0b40f7dbc1cc"
   },
   "outputs": [],
   "source": [
    "print(\"\\nIniciando treinamento...\")\n",
    "trainer.train()"
   ]
  },
  {
   "cell_type": "markdown",
   "metadata": {
    "id": "egT4qH0X72i-"
   },
   "source": [
    "# Avaliar o modelo\n"
   ]
  },
  {
   "cell_type": "code",
   "execution_count": null,
   "metadata": {
    "colab": {
     "base_uri": "https://localhost:8080/",
     "height": 89
    },
    "id": "NduWbxIF4bLV",
    "outputId": "42f02a24-333e-4ea8-ba22-7db05ab890f2"
   },
   "outputs": [],
   "source": [
    "print(\"\\nAvaliando o modelo...\")\n",
    "eval_results = trainer.evaluate()\n",
    "print(f\"Acurácia: {eval_results['eval_accuracy']:.4f}\")"
   ]
  },
  {
   "cell_type": "markdown",
   "metadata": {
    "id": "quDMswFj76Ur"
   },
   "source": [
    "## Função para classificar novos textos\n"
   ]
  },
  {
   "cell_type": "code",
   "execution_count": null,
   "metadata": {
    "id": "cvRnHNVp762R"
   },
   "outputs": [],
   "source": [
    "def classificar_texto(texto):\n",
    "    # Tokenizar e preparar o texto para o modelo\n",
    "    inputs = tokenizer(texto, return_tensors=\"pt\", padding=True, truncation=True)\n",
    "\n",
    "    # Mover inputs para o mesmo dispositivo que o modelo\n",
    "    inputs = {k: v.to(dispositivo) for k, v in inputs.items()}\n",
    "\n",
    "    # Fazer a predição\n",
    "    with torch.no_grad():\n",
    "        outputs = model(**inputs)\n",
    "\n",
    "    # Obter a classe prevista (0=Negativo, 1=Positivo)\n",
    "    sentimento = \"Positivo\" if outputs.logits.argmax().item() == 1 else \"Negativo\"\n",
    "\n",
    "    return sentimento"
   ]
  },
  {
   "cell_type": "markdown",
   "metadata": {
    "id": "UpKN0Jft7-uO"
   },
   "source": [
    "## Testar com novos exemplos"
   ]
  },
  {
   "cell_type": "code",
   "execution_count": null,
   "metadata": {
    "colab": {
     "base_uri": "https://localhost:8080/"
    },
    "id": "KYcdcRzB8Wep",
    "outputId": "2f5129b3-7502-4c13-d3cd-b797496bf9b6"
   },
   "outputs": [],
   "source": [
    "texto = \"Produto excelente, entrega rápida e atendimento nota 10!\"\n",
    "\n",
    "print(f\"\\nTexto: {texto}\")\n",
    "\n",
    "sentimento = classificar_texto(texto)\n",
    "\n",
    "print(f\"Classificação: {sentimento}\")"
   ]
  },
  {
   "cell_type": "code",
   "execution_count": null,
   "metadata": {
    "colab": {
     "base_uri": "https://localhost:8080/"
    },
    "id": "NUk526Yg8fEI",
    "outputId": "8779a5fc-e6d4-4a2a-b7df-196bd3d8d14c"
   },
   "outputs": [],
   "source": [
    "texto = \"Péssima experiência, o produto veio quebrado e o suporte não resolveu.\"\n",
    "\n",
    "print(f\"\\nTexto: {texto}\")\n",
    "\n",
    "sentimento = classificar_texto(texto)\n",
    "\n",
    "print(f\"Classificação: {sentimento}\")"
   ]
  },
  {
   "cell_type": "code",
   "execution_count": null,
   "metadata": {
    "colab": {
     "base_uri": "https://localhost:8080/"
    },
    "id": "Kb5hnpRt8q-q",
    "outputId": "9bc6e394-5c97-4892-998b-a34c6dc85c6f"
   },
   "outputs": [],
   "source": [
    "texto = \"eu recomendaria\"\n",
    "\n",
    "print(f\"\\nTexto: {texto}\")\n",
    "\n",
    "sentimento = classificar_texto(texto)\n",
    "\n",
    "print(f\"Classificação: {sentimento}\")"
   ]
  },
  {
   "cell_type": "code",
   "execution_count": null,
   "metadata": {
    "colab": {
     "base_uri": "https://localhost:8080/"
    },
    "id": "jtIGCbYu8n-_",
    "outputId": "ed382a4c-1484-4d49-d323-d724e6cd6963"
   },
   "outputs": [],
   "source": [
    "texto = \"eu desrecomendaria\"\n",
    "\n",
    "print(f\"\\nTexto: {texto}\")\n",
    "\n",
    "sentimento = classificar_texto(texto)\n",
    "\n",
    "print(f\"Classificação: {sentimento}\")"
   ]
  },
  {
   "cell_type": "code",
   "execution_count": null,
   "metadata": {
    "colab": {
     "base_uri": "https://localhost:8080/"
    },
    "id": "BXL40z7N8huU",
    "outputId": "264b9c14-e27f-4cfe-89d2-d69f5f7e4fad"
   },
   "outputs": [],
   "source": [
    "texto = \"normal, não supreendeu.\"\n",
    "\n",
    "print(f\"\\nTexto: {texto}\")\n",
    "\n",
    "sentimento = classificar_texto(texto)\n",
    "\n",
    "print(f\"Classificação: {sentimento}\")"
   ]
  },
  {
   "cell_type": "markdown",
   "metadata": {
    "id": "Mxr67Z4tl7oD"
   },
   "source": [
    "# Ajustes para o github"
   ]
  },
  {
   "cell_type": "code",
   "execution_count": null,
   "metadata": {
    "colab": {
     "base_uri": "https://localhost:8080/"
    },
    "id": "Rpb37Z5hl9eE",
    "outputId": "7a76f0e5-7515-4d07-e369-385e5b6957ea"
   },
   "outputs": [],
   "source": [
    "pip install nbstripout\n"
   ]
  },
  {
   "cell_type": "code",
   "execution_count": null,
   "metadata": {
    "colab": {
     "base_uri": "https://localhost:8080/"
    },
    "id": "FvgJmVXb8QL8",
    "outputId": "e87d28fa-213b-4b1b-ca4d-0f40e174fe34"
   },
   "outputs": [],
   "source": [
    "!nbstripout classificacao_de_textos_com_bert.ipynb"
   ]
  }
 ],
 "metadata": {
  "accelerator": "GPU",
  "colab": {
   "gpuType": "T4",
   "provenance": []
  },
  "kernelspec": {
   "display_name": "Python 3",
   "name": "python3"
  },
  "language_info": {
   "name": "python"
  }
 },
 "nbformat": 4,
 "nbformat_minor": 0
}
