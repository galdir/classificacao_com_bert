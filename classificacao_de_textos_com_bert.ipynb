{
 "cells": [
  {
   "cell_type": "markdown",
   "metadata": {
    "id": "z3RAC5gMqaXN"
   },
   "source": [
    "Classificação de Textos usando BERT"
   ]
  },
  {
   "cell_type": "markdown",
   "metadata": {
    "id": "ZYPoeYDXqfD8"
   },
   "source": [
    "# Instalação das bibliotecas necessárias\n"
   ]
  },
  {
   "cell_type": "code",
   "execution_count": null,
   "metadata": {
    "id": "SYPW74_bqk24"
   },
   "outputs": [],
   "source": [
    "# Descomente e execute se necessário\n",
    "#!pip install transformers pandas numpy scikit-learn torch datasets"
   ]
  },
  {
   "cell_type": "code",
   "execution_count": null,
   "metadata": {
    "colab": {
     "base_uri": "https://localhost:8080/"
    },
    "id": "p0XrwJUAzAve",
    "outputId": "e127e8fe-f621-4610-97e0-4936d620a35f"
   },
   "outputs": [],
   "source": [
    "!pip install datasets"
   ]
  },
  {
   "cell_type": "markdown",
   "metadata": {
    "id": "70ht281FqlOT"
   },
   "source": [
    "# Importação das bibliotecas\n"
   ]
  },
  {
   "cell_type": "code",
   "execution_count": null,
   "metadata": {
    "id": "EhBKbj3Eqnd-"
   },
   "outputs": [],
   "source": [
    "import pandas as pd\n",
    "import numpy as np\n",
    "import torch\n",
    "from transformers import AutoTokenizer, AutoModelForSequenceClassification\n",
    "from transformers import TrainingArguments, Trainer\n",
    "from sklearn.model_selection import train_test_split\n",
    "from datasets import Dataset"
   ]
  },
  {
   "cell_type": "markdown",
   "metadata": {
    "id": "djssNwKy8ON1"
   },
   "source": [
    "# Verificar se GPU está disponível\n"
   ]
  },
  {
   "cell_type": "code",
   "execution_count": null,
   "metadata": {
    "colab": {
     "base_uri": "https://localhost:8080/"
    },
    "id": "79qW644L8NXI",
    "outputId": "bdcd529a-3b61-4095-ac9c-12437ad1921c"
   },
   "outputs": [],
   "source": [
    "dispositivo = torch.device(\"cuda\" if torch.cuda.is_available() else \"cpu\")\n",
    "print(f\"Usando {dispositivo}\")"
   ]
  },
  {
   "cell_type": "markdown",
   "metadata": {
    "id": "mqSnyb5zqpar"
   },
   "source": [
    "# Baixar e preparar o dataset B2W-Reviews01"
   ]
  },
  {
   "cell_type": "markdown",
   "metadata": {
    "id": "aKr1xoV8ZPSi"
   },
   "source": [
    "https://github.com/americanas-tech/b2w-reviews01/tree/main"
   ]
  },
  {
   "cell_type": "code",
   "execution_count": null,
   "metadata": {
    "colab": {
     "base_uri": "https://localhost:8080/"
    },
    "id": "1g-nPl-EqrAw",
    "outputId": "f01ad2dc-b2a4-49bf-cd33-ea5ea4c2ced7"
   },
   "outputs": [],
   "source": [
    "print(\"Baixando o dataset B2W-Reviews01...\")\n",
    "url = \"https://raw.githubusercontent.com/americanas-tech/b2w-reviews01/refs/heads/main/B2W-Reviews01.csv\"\n",
    "df = pd.read_csv(url, low_memory=False)"
   ]
  },
  {
   "cell_type": "code",
   "execution_count": null,
   "metadata": {
    "colab": {
     "base_uri": "https://localhost:8080/",
     "height": 591
    },
    "id": "mci3nMR7sfvx",
    "outputId": "58888f19-7517-41f8-c9ff-a65c208c8cb1"
   },
   "outputs": [],
   "source": [
    "df.head()"
   ]
  },
  {
   "cell_type": "markdown",
   "metadata": {
    "id": "UTe4ppAfqs_V"
   },
   "source": [
    "# Preparar os dados - apenas textos e sentimentos\n"
   ]
  },
  {
   "cell_type": "code",
   "execution_count": null,
   "metadata": {
    "id": "9_cO3LF1quM8"
   },
   "outputs": [],
   "source": [
    "df = df[['review_text', 'overall_rating']]\n",
    "df.columns = ['texto', 'nota']"
   ]
  },
  {
   "cell_type": "code",
   "execution_count": null,
   "metadata": {
    "colab": {
     "base_uri": "https://localhost:8080/",
     "height": 363
    },
    "id": "g8BiWnIHs7jv",
    "outputId": "ee6b8193-dc21-4759-9611-64ae8aa7464c"
   },
   "outputs": [],
   "source": [
    "df.head(10)"
   ]
  },
  {
   "cell_type": "markdown",
   "metadata": {
    "id": "UkaHfUw7tfO5"
   },
   "source": [
    "## Converter notas para sentimento binário (0-negativo, 1-positivo)\n"
   ]
  },
  {
   "cell_type": "code",
   "execution_count": null,
   "metadata": {
    "id": "iQrC_AaRtnDd"
   },
   "outputs": [],
   "source": [
    "df = df[(df['nota'] <= 2) | (df['nota'] >= 4)].copy()"
   ]
  },
  {
   "cell_type": "code",
   "execution_count": null,
   "metadata": {
    "id": "QaIMTRxoto3b"
   },
   "outputs": [],
   "source": [
    "df['sentimento'] = df['nota'].apply(lambda x: 1 if x >= 4 else 0)"
   ]
  },
  {
   "cell_type": "code",
   "execution_count": null,
   "metadata": {
    "id": "JQ25nd4Vtq8-"
   },
   "outputs": [],
   "source": [
    "df = df[['texto', 'sentimento']]"
   ]
  },
  {
   "cell_type": "code",
   "execution_count": null,
   "metadata": {
    "id": "tIJvM8qxtdbh"
   },
   "outputs": [],
   "source": [
    "df = df[df['texto'].notna() & (df['texto'] != '')].reset_index(drop=True)"
   ]
  },
  {
   "cell_type": "code",
   "execution_count": null,
   "metadata": {
    "colab": {
     "base_uri": "https://localhost:8080/",
     "height": 363
    },
    "id": "mBIng4ZAuXuG",
    "outputId": "4643aaae-0742-44c2-8d8d-2a6767afcb02"
   },
   "outputs": [],
   "source": [
    "df.head(10)"
   ]
  },
  {
   "cell_type": "markdown",
   "metadata": {
    "id": "cN26rITKuEso"
   },
   "source": [
    "## Verificar distribuição\n"
   ]
  },
  {
   "cell_type": "code",
   "execution_count": null,
   "metadata": {
    "colab": {
     "base_uri": "https://localhost:8080/"
    },
    "id": "2QC7tC7BuET3",
    "outputId": "bccc5bb3-c139-4a9f-cb38-eb5407fe15fc"
   },
   "outputs": [],
   "source": [
    "print(f\"Total de exemplos: {len(df)}\")\n",
    "print(f\"Exemplos positivos: {sum(df['sentimento'])}\")\n",
    "print(f\"Exemplos negativos: {len(df) - sum(df['sentimento'])}\")"
   ]
  },
  {
   "cell_type": "markdown",
   "metadata": {
    "id": "DeiAuxRyuQFd"
   },
   "source": [
    "## Limitar dataset para processamento mais rápido\n"
   ]
  },
  {
   "cell_type": "code",
   "execution_count": null,
   "metadata": {
    "id": "C8FtyE5SuMqz"
   },
   "outputs": [],
   "source": [
    "# Usando apenas 1000 exemplos balanceados para demonstração\n",
    "neg = df[df['sentimento'] == 0].sample(500, random_state=42)\n",
    "pos = df[df['sentimento'] == 1].sample(500, random_state=42)\n",
    "df = pd.concat([neg, pos]).sample(frac=1, random_state=42).reset_index(drop=True)"
   ]
  },
  {
   "cell_type": "code",
   "execution_count": null,
   "metadata": {
    "colab": {
     "base_uri": "https://localhost:8080/"
    },
    "id": "VgZbflf94p1G",
    "outputId": "012c2fc2-8030-4bc2-826c-4e6f2194deff"
   },
   "outputs": [],
   "source": [
    "df.shape"
   ]
  },
  {
   "cell_type": "markdown",
   "metadata": {
    "id": "dK0KPocducic"
   },
   "source": [
    "## Separar em treino e teste"
   ]
  },
  {
   "cell_type": "code",
   "execution_count": null,
   "metadata": {
    "id": "64lrmnsRueR4"
   },
   "outputs": [],
   "source": [
    "train_df, test_df = train_test_split(df, test_size=0.2, random_state=42)\n"
   ]
  },
  {
   "cell_type": "markdown",
   "metadata": {
    "id": "p04DEDQBaEDq"
   },
   "source": [
    "# Tokenização"
   ]
  },
  {
   "cell_type": "markdown",
   "metadata": {
    "id": "4sTu1pgKugfL"
   },
   "source": [
    "## Carregar o Tokenizador do modelo BERT pré-treinado para português"
   ]
  },
  {
   "cell_type": "code",
   "execution_count": null,
   "metadata": {
    "colab": {
     "base_uri": "https://localhost:8080/",
     "height": 281,
     "referenced_widgets": [
      "19c04208df13419e91e3eaf8067ec9d4",
      "28e285a723104d5ea16402dae27ef433",
      "edb862e3faf444a78be376ff0c090399",
      "9fbcec6e471c4b9b8d4c80f6a044dca1",
      "bb43450195194422874ebbab1b5d4320",
      "1fb38dc9ae8c4a1bbb22a61eaa0a5d91",
      "9b1300deabe94a898be18e6bb8402961",
      "27fac4603e214ef3aac3ec5f96c2b083",
      "b75c33ebb23840c9acc135c49f241f14",
      "882b70c815be4529b8f6bea404fecc6e",
      "172caff8ef6247568a09c928f587bbc3",
      "8336b026410145e388ed126da81a7e42",
      "e0132506531949539f6f6e280563a3f0",
      "45fa25dd5e5748bd829521f3b0636a5e",
      "e467eae49331459aac288eebe7a0cfba",
      "4cbad4984200448aba8d1d041531db99",
      "9256b34ca20e42a1b3559ed76560542b",
      "f9825603e9b14081a16105f38783665c",
      "980ddde624ad4bb693066f4b8d112b7c",
      "bdfdb32815bd4b01b12bd646d6f23bb2",
      "a39ebd3d732041ba888e59e2f2ccc6bf",
      "d2bec6e980b94f999fb1ddfa40fb0544",
      "96e7345386b441de83b75fa028c785f4",
      "44e6917652ff454a8048805d046c2e33",
      "556cc57f937646eaa1655f4dc5ae8626",
      "d2afa1576cdc433098458e74b0af6ff8",
      "d83994dd51d3427eb9f39ed58d459a4d",
      "fb72b153fb364edb8956c7bc32e5327e",
      "0672328b73394959ae8b202cf38eb0e7",
      "f60156343d774bed92f55101cd16da90",
      "89e776f7077b46949f889c1329ddc365",
      "ffbe15f1541c484d84551ddaa80a5d08",
      "70d6d991a74348f7bf3346d57585c433",
      "43c9afbe9aaa47d68ff16c23201fbcb1",
      "67399e596b9241938846fc51c76f3460",
      "22f6ce8e1d13470d9ba7fa2b8e2908ea",
      "ce5a5d36341b4f459d2c247b13a81f52",
      "afeae154e0044ab29764dbbb47ea3cfa",
      "d79963ef6e1344a2917dc91fdc9e6e03",
      "2aa465bb7b0043ec84e3cfa6a11f1a06",
      "cef7cb4a513049109aa85260c4eb08f7",
      "0515ee39b9b94aeb8e99b48f1c7dc38b",
      "ec8163e2913348a0a5a269815e464cb6",
      "fd0048abc76448acae02e920b8d56c3c",
      "5abd77a509a44d4d9d377afc685bfaeb",
      "76c06fbff9b148448a7c7305d1135510",
      "88f038077b414d88a1467cc5bf4d3123",
      "81f5874bd01e4b8e8e44f55134cc84f3",
      "cc375c148d5345d5b484bdd775786570",
      "0ae6f17a4cc84a5aa37f28d332e70571",
      "60db5d6d12a24b1897c5f79acd3e3052",
      "303c7aca4c674a6a99daaae159d96dcf",
      "b62954d1416e48478175b1ba33c76497",
      "87768234872440318e112de4e32cba2f",
      "b649f10b25924dc184bb2c76a61bc03a"
     ]
    },
    "id": "8typTnlUuhan",
    "outputId": "be220d47-3ff3-43e8-94d6-f1c976f29927"
   },
   "outputs": [],
   "source": [
    "model_name = \"neuralmind/bert-base-portuguese-cased\"\n",
    "tokenizer = AutoTokenizer.from_pretrained(model_name)"
   ]
  },
  {
   "cell_type": "markdown",
   "metadata": {
    "id": "VuqQI55Uy1MU"
   },
   "source": [
    "## Função de pré-processamento para tokenização\n"
   ]
  },
  {
   "cell_type": "code",
   "execution_count": null,
   "metadata": {
    "colab": {
     "base_uri": "https://localhost:8080/",
     "height": 35
    },
    "id": "xV34PSvK02zd",
    "outputId": "5f6c455b-ccc4-4ffc-ee5e-7f569a37cc15"
   },
   "outputs": [],
   "source": [
    "exemplo = train_df.iloc[0][\"texto\"]\n",
    "exemplo"
   ]
  },
  {
   "cell_type": "code",
   "execution_count": null,
   "metadata": {
    "colab": {
     "base_uri": "https://localhost:8080/"
    },
    "id": "9MFiUKE2zjIN",
    "outputId": "b8313ab1-33e6-4628-f11f-726886dc46b3"
   },
   "outputs": [],
   "source": [
    "tokenizer(exemplo, truncation=True, padding=\"max_length\", max_length=128)"
   ]
  },
  {
   "cell_type": "code",
   "execution_count": null,
   "metadata": {
    "id": "9p76OMYuyz7O"
   },
   "outputs": [],
   "source": [
    "def preprocess_function(examples):\n",
    "    # Tokenizar os textos e definir truncation/padding\n",
    "    tokenized = tokenizer(\n",
    "        examples[\"texto\"],\n",
    "        truncation=True,\n",
    "        padding=\"max_length\",\n",
    "        max_length=128\n",
    "    )\n",
    "\n",
    "    # IMPORTANTE: Adicionar as etiquetas (labels)\n",
    "    tokenized[\"labels\"] = examples[\"sentimento\"]\n",
    "\n",
    "    return tokenized"
   ]
  },
  {
   "cell_type": "code",
   "execution_count": null,
   "metadata": {
    "colab": {
     "base_uri": "https://localhost:8080/"
    },
    "id": "wclbzpx306b5",
    "outputId": "59bd3002-772c-48ac-9557-dd331e1d6703"
   },
   "outputs": [],
   "source": [
    "preprocess_function(train_df.iloc[0])"
   ]
  },
  {
   "cell_type": "markdown",
   "metadata": {
    "id": "bUY9EDaFy4Qw"
   },
   "source": [
    "## Converter DataFrames para o formato compatível com o Pytorch\n"
   ]
  },
  {
   "cell_type": "code",
   "execution_count": null,
   "metadata": {
    "id": "7mU5PoK6y3bS"
   },
   "outputs": [],
   "source": [
    "train_dataset = Dataset.from_pandas(train_df)\n",
    "test_dataset = Dataset.from_pandas(test_df)"
   ]
  },
  {
   "cell_type": "code",
   "execution_count": null,
   "metadata": {
    "colab": {
     "base_uri": "https://localhost:8080/"
    },
    "id": "OHorbvs01Way",
    "outputId": "90805fd3-29dc-48d1-d068-27a6a3fd56ea"
   },
   "outputs": [],
   "source": [
    "train_dataset"
   ]
  },
  {
   "cell_type": "markdown",
   "metadata": {
    "id": "Vqgw9XfT1S22"
   },
   "source": [
    "## Aplicar tokenização"
   ]
  },
  {
   "cell_type": "code",
   "execution_count": null,
   "metadata": {
    "colab": {
     "base_uri": "https://localhost:8080/",
     "height": 81,
     "referenced_widgets": [
      "dfb7a98755724dc1ab1710ca54778840",
      "a7f0162487bd4ae8a9b78db94fba728b",
      "edf88154e9ef432e9c63e3469d37dde7",
      "0651742077334a0ab6e549fc8348d39a",
      "1b256444b67d45019872cae2c579ff0c",
      "3fa8c14c5ea84ec7b2f6f12e23ae3943",
      "380d85f480d64673a2c9b2222809463b",
      "f5f131c03711458591a29fa77e757c4d",
      "a6588a0840c740808eac4f72471cd012",
      "314a44f1fd44420998deb53f9447cfe0",
      "77366ae763cf4d0aa4aad65623f61c49",
      "6063f337c21f44668e6a33d208da6633",
      "fd968b1a21c0409397f553f7fe56f91c",
      "bb4ecf74f38e43a58177a343c30c310b",
      "bbd78ca0874d41a3bb322850507c43c5",
      "d89246736fa04662aa9bf5b8b7729d1b",
      "f5d2adbbb80642d4b497d5152916b4ff",
      "e8c60e48a8114aefbec88e4a75256c83",
      "368480a4852a4aa88db62a67a5e03611",
      "9424da49cf3e41fbb2a92e9f7b494d07",
      "ff8774f033e74312aac20d63d850831f",
      "701191b988564fb7b60f020be004442f"
     ]
    },
    "id": "Y2GBx9rp1SR9",
    "outputId": "74bb303b-74f1-45ba-cd88-52643d6e18a9"
   },
   "outputs": [],
   "source": [
    "train_tokenized = train_dataset.map(preprocess_function, batched=True)\n",
    "test_tokenized = test_dataset.map(preprocess_function, batched=True)"
   ]
  },
  {
   "cell_type": "code",
   "execution_count": null,
   "metadata": {
    "colab": {
     "base_uri": "https://localhost:8080/"
    },
    "id": "FzOaMw4_1blF",
    "outputId": "c3bbbe8a-53fd-4073-ade4-69d71297688b"
   },
   "outputs": [],
   "source": [
    "train_tokenized"
   ]
  },
  {
   "cell_type": "markdown",
   "metadata": {
    "id": "b9N7rnapaVkF"
   },
   "source": [
    "# Preparar o modelo para treinamento"
   ]
  },
  {
   "cell_type": "markdown",
   "metadata": {
    "id": "WQ_3N5Yw1kdr"
   },
   "source": [
    "## Carregar modelo pretreinado e preparado para classificação"
   ]
  },
  {
   "cell_type": "code",
   "execution_count": null,
   "metadata": {
    "colab": {
     "base_uri": "https://localhost:8080/",
     "height": 136,
     "referenced_widgets": [
      "f9198eb31d1f4162b89e66a25383076f",
      "353629321b194034b2328f534d2ca5aa",
      "453a9607484d44d6bb4329a09d981593",
      "81676481212041cea52c9b8b433bab4d",
      "36ea7f706b964dcbb06543336fbbb88a",
      "16c4f84123774809bd24b28754202d9e",
      "a588f3d5904a44129ba51b7f1372faa2",
      "291599adaebe41bebdae45c17f15813c",
      "39c370ca59b14456a8af9ebc47d64d8e",
      "1c4727b7035844c6b1222222ba6947da",
      "232be879cb7247439c2d43e7eea1a857",
      "de98393316294631863d4d6ff9a511fd",
      "d6be225f18b94837a0b2d6c44f074a99",
      "ccb1bfac08f8474689a4c662aeabfcb0",
      "848e1912f0b04b25bb0e07f86d408f5b",
      "04982e10ff694d2cb6a54f47db380d81",
      "115b358fc2784eee91ed7855421db63b",
      "5b0e17a81c56453e828ee90a88fc0dff",
      "f0b0f353bfd64b5396dffb3bc307437c",
      "179f574f21a64bd09195e713faad675f",
      "d1854e1afda643b1b4666c2f5c6f2c4b",
      "6a299821ca3546e0a192ae061700b7c4"
     ]
    },
    "id": "fUld9f6a1lHF",
    "outputId": "93509776-e207-4085-b9e5-a6c0893cb3fe"
   },
   "outputs": [],
   "source": [
    "model = AutoModelForSequenceClassification.from_pretrained(\n",
    "    model_name,\n",
    "    num_labels=2,\n",
    "    device_map=\"auto\"\n",
    ")"
   ]
  },
  {
   "cell_type": "code",
   "execution_count": null,
   "metadata": {
    "colab": {
     "base_uri": "https://localhost:8080/"
    },
    "id": "-egQk5w4DSVC",
    "outputId": "4c326b4a-15d3-458a-eb6b-a9baf321aaa7"
   },
   "outputs": [],
   "source": [
    "model"
   ]
  },
  {
   "cell_type": "markdown",
   "metadata": {
    "id": "l5M4DK2g9_F1"
   },
   "source": [
    "## Similaridade com embeddings do BERT"
   ]
  },
  {
   "cell_type": "code",
   "execution_count": null,
   "metadata": {
    "colab": {
     "base_uri": "https://localhost:8080/"
    },
    "id": "uE-Xxn-x_CXg",
    "outputId": "c6d7430c-9075-4e09-e67d-4ab2ac5c1ce9"
   },
   "outputs": [],
   "source": [
    "texto = \"Este produto é excelente e durável.\"\n",
    "\n",
    "# Tokenizar o texto\n",
    "entradas = tokenizer(texto, return_tensors=\"pt\", padding=True, truncation=True)\n",
    "\n",
    "# Mover inputs para o mesmo dispositivo que o modelo\n",
    "entradas = {k: v.to(dispositivo) for k, v in entradas.items()}\n",
    "\n",
    "# Obter embeddings (representação vetorial) da frase\n",
    "with torch.no_grad():\n",
    "    outputs = model(**entradas, output_hidden_states=True)\n"
   ]
  },
  {
   "cell_type": "code",
   "execution_count": null,
   "metadata": {
    "colab": {
     "base_uri": "https://localhost:8080/"
    },
    "id": "GE4odtsJ_5eO",
    "outputId": "871b5649-1f3e-4d66-a1f7-02fd1e0555a8"
   },
   "outputs": [],
   "source": [
    "outputs"
   ]
  },
  {
   "cell_type": "code",
   "execution_count": null,
   "metadata": {
    "colab": {
     "base_uri": "https://localhost:8080/"
    },
    "id": "-JiK2zL5_rSp",
    "outputId": "1a021346-e7d2-409c-909f-319712702cb7"
   },
   "outputs": [],
   "source": [
    "outputs.keys()"
   ]
  },
  {
   "cell_type": "markdown",
   "metadata": {
    "id": "RnCFfSKxANdV"
   },
   "source": [
    "logits é a saida de classificacão... que não treinamos ainda e não fazem sentido agora"
   ]
  },
  {
   "cell_type": "code",
   "execution_count": null,
   "metadata": {
    "colab": {
     "base_uri": "https://localhost:8080/"
    },
    "id": "Qw4VFoIwAacz",
    "outputId": "21f42835-715a-4a3f-b5ad-0f1d81f55924"
   },
   "outputs": [],
   "source": [
    "outputs.logits"
   ]
  },
  {
   "cell_type": "markdown",
   "metadata": {
    "id": "BL3W7QQ4AwO3"
   },
   "source": [
    "hidden_states são as representações internas que o modelo constrói"
   ]
  },
  {
   "cell_type": "code",
   "execution_count": null,
   "metadata": {
    "colab": {
     "base_uri": "https://localhost:8080/"
    },
    "id": "CUbsrugQADzl",
    "outputId": "b387d0c6-71b5-4239-f802-a272fb14fe8a"
   },
   "outputs": [],
   "source": [
    "outputs.hidden_states[-1].shape"
   ]
  },
  {
   "cell_type": "code",
   "execution_count": null,
   "metadata": {
    "id": "BNOsRvO__4J5"
   },
   "outputs": [],
   "source": [
    "def obter_embedding(texto):\n",
    "    # Tokenizar o texto\n",
    "    inputs = tokenizer(texto, return_tensors=\"pt\", padding=True, truncation=True)\n",
    "\n",
    "    # Mover inputs para o mesmo dispositivo que o modelo\n",
    "    inputs = {k: v.to(dispositivo) for k, v in inputs.items()}\n",
    "\n",
    "    # Obter embeddings (representação vetorial) da frase\n",
    "    with torch.no_grad():\n",
    "        outputs = model(**inputs, output_hidden_states=True)\n",
    "\n",
    "    # Usar a representação da camada de saída [CLS]\n",
    "    # O token [CLS] (primeiro token) contém a representação da frase inteira\n",
    "    embedding = outputs.hidden_states[-1][0, 0, :].cpu().numpy()\n",
    "    return embedding"
   ]
  },
  {
   "cell_type": "code",
   "execution_count": null,
   "metadata": {
    "id": "vuUgTztSAAQ3"
   },
   "outputs": [],
   "source": [
    "def calcular_similaridade(frase1, frase2):\n",
    "    # Obter embeddings para cada frase\n",
    "    emb1 = obter_embedding(frase1)\n",
    "    emb2 = obter_embedding(frase2)\n",
    "\n",
    "    # Normalizar os vetores\n",
    "    emb1_norm = emb1 / np.linalg.norm(emb1)\n",
    "    emb2_norm = emb2 / np.linalg.norm(emb2)\n",
    "\n",
    "    # Calcular similaridade de cosseno\n",
    "    similaridade = np.dot(emb1_norm, emb2_norm)\n",
    "    return similaridade"
   ]
  },
  {
   "cell_type": "code",
   "execution_count": null,
   "metadata": {
    "colab": {
     "base_uri": "https://localhost:8080/"
    },
    "id": "AFw4wu7SBS5k",
    "outputId": "0f400a19-de06-468f-b786-d049e4582d8d"
   },
   "outputs": [],
   "source": [
    "frase1= \"Este produto é excelente e durável.\"\n",
    "frase2= \"Este produto é ruim e ineficiente.\"\n",
    "\n",
    "calcular_similaridade(frase1, frase2)"
   ]
  },
  {
   "cell_type": "code",
   "execution_count": null,
   "metadata": {
    "colab": {
     "base_uri": "https://localhost:8080/"
    },
    "id": "lPpBxm1SBZad",
    "outputId": "a0628168-c027-4901-b45f-e4db6db81490"
   },
   "outputs": [],
   "source": [
    "frase1= \"Este produto é excelente e durável.\"\n",
    "frase2= \"O produto tem ótima qualidade e é resistente.\"\n",
    "\n",
    "calcular_similaridade(frase1, frase2)"
   ]
  },
  {
   "cell_type": "code",
   "execution_count": null,
   "metadata": {
    "colab": {
     "base_uri": "https://localhost:8080/"
    },
    "id": "xcDirMynBi5U",
    "outputId": "9a8e09ea-defd-4003-cff1-94bbab4272ea"
   },
   "outputs": [],
   "source": [
    "frase1= \"Este produto é excelente e durável.\"\n",
    "frase2= \"Subi num ônibus em madagascar\"\n",
    "\n",
    "calcular_similaridade(frase1, frase2)"
   ]
  },
  {
   "cell_type": "markdown",
   "metadata": {
    "id": "YsndtxAEaqCU"
   },
   "source": [
    "# Treinamento"
   ]
  },
  {
   "cell_type": "markdown",
   "metadata": {
    "id": "SdLD4OvU1sFS"
   },
   "source": [
    "## Configurar argumentos de treinamento\n"
   ]
  },
  {
   "cell_type": "code",
   "execution_count": null,
   "metadata": {
    "id": "xGw7klUi1qve"
   },
   "outputs": [],
   "source": [
    "training_args = TrainingArguments(\n",
    "    output_dir=\"./resultados\",\n",
    "    num_train_epochs=1,            # Apenas 1 época para demonstração\n",
    "    #per_device_train_batch_size=8,\n",
    "    #learning_rate=2e-5,\n",
    ")"
   ]
  },
  {
   "cell_type": "markdown",
   "metadata": {
    "id": "jcJz1qfj26hu"
   },
   "source": [
    "## Função para cálculo das métricas"
   ]
  },
  {
   "cell_type": "code",
   "execution_count": null,
   "metadata": {
    "id": "EWvzzpN122fL"
   },
   "outputs": [],
   "source": [
    "def compute_metrics(resultado):\n",
    "    rotulos_verdadeiros = resultado.label_ids\n",
    "    rotulos_preditos = resultado.predictions.argmax(-1)\n",
    "    acc = (rotulos_preditos == rotulos_verdadeiros).mean()\n",
    "    return {\"accuracy\": acc}"
   ]
  },
  {
   "cell_type": "markdown",
   "metadata": {
    "id": "PIcWcPY33Dju"
   },
   "source": [
    "## Configurar o treinador\n"
   ]
  },
  {
   "cell_type": "code",
   "execution_count": null,
   "metadata": {
    "id": "yd0HhxHZ3DxW"
   },
   "outputs": [],
   "source": [
    "trainer = Trainer(\n",
    "    model=model,\n",
    "    args=training_args,\n",
    "    train_dataset=train_tokenized,\n",
    "    eval_dataset=test_tokenized,\n",
    "    processing_class=tokenizer,\n",
    "    compute_metrics=compute_metrics,\n",
    ")"
   ]
  },
  {
   "cell_type": "code",
   "execution_count": null,
   "metadata": {
    "id": "1LVai74_gsB7"
   },
   "outputs": [],
   "source": [
    "# import wandb\n",
    "# wandb.init(mode=\"disabled\")"
   ]
  },
  {
   "cell_type": "markdown",
   "metadata": {
    "id": "I6rwI04Q3Wih"
   },
   "source": [
    "## Treinar o modelo\n"
   ]
  },
  {
   "cell_type": "code",
   "execution_count": null,
   "metadata": {
    "colab": {
     "base_uri": "https://localhost:8080/",
     "height": 443
    },
    "id": "YU8aro6_3YNB",
    "outputId": "77695193-e7d1-4f53-d928-486f06fd08ab"
   },
   "outputs": [],
   "source": [
    "print(\"\\nIniciando treinamento...\")\n",
    "trainer.train()"
   ]
  },
  {
   "cell_type": "markdown",
   "metadata": {
    "id": "egT4qH0X72i-"
   },
   "source": [
    "# Avaliar o modelo\n"
   ]
  },
  {
   "cell_type": "code",
   "execution_count": null,
   "metadata": {
    "colab": {
     "base_uri": "https://localhost:8080/",
     "height": 89
    },
    "id": "NduWbxIF4bLV",
    "outputId": "e2deae3a-a474-4e58-f710-bf5f3346e918"
   },
   "outputs": [],
   "source": [
    "print(\"\\nAvaliando o modelo...\")\n",
    "eval_results = trainer.evaluate()\n",
    "print(f\"Acurácia: {eval_results['eval_accuracy']:.4f}\")"
   ]
  },
  {
   "cell_type": "markdown",
   "metadata": {
    "id": "quDMswFj76Ur"
   },
   "source": [
    "## Função para classificar novos textos\n"
   ]
  },
  {
   "cell_type": "code",
   "execution_count": null,
   "metadata": {
    "id": "cvRnHNVp762R"
   },
   "outputs": [],
   "source": [
    "def classificar_texto(texto):\n",
    "    # Tokenizar e preparar o texto para o modelo\n",
    "    inputs = tokenizer(texto, return_tensors=\"pt\", padding=True, truncation=True)\n",
    "\n",
    "    # Mover inputs para o mesmo dispositivo que o modelo\n",
    "    inputs = {k: v.to(dispositivo) for k, v in inputs.items()}\n",
    "\n",
    "    # Fazer a predição\n",
    "    with torch.no_grad():\n",
    "        outputs = model(**inputs)\n",
    "\n",
    "    # Obter a classe prevista (0=Negativo, 1=Positivo)\n",
    "    sentimento = \"Positivo\" if outputs.logits.argmax().item() == 1 else \"Negativo\"\n",
    "\n",
    "    return sentimento"
   ]
  },
  {
   "cell_type": "markdown",
   "metadata": {
    "id": "UpKN0Jft7-uO"
   },
   "source": [
    "## Testar com novos exemplos"
   ]
  },
  {
   "cell_type": "code",
   "execution_count": null,
   "metadata": {
    "colab": {
     "base_uri": "https://localhost:8080/"
    },
    "id": "KYcdcRzB8Wep",
    "outputId": "ad174959-b599-43c9-b32d-f92b637da128"
   },
   "outputs": [],
   "source": [
    "texto = \"Produto excelente, entrega rápida e atendimento nota 10!\"\n",
    "\n",
    "print(f\"\\nTexto: {texto}\")\n",
    "\n",
    "sentimento = classificar_texto(texto)\n",
    "\n",
    "print(f\"Classificação: {sentimento}\")"
   ]
  },
  {
   "cell_type": "code",
   "execution_count": null,
   "metadata": {
    "colab": {
     "base_uri": "https://localhost:8080/"
    },
    "id": "NUk526Yg8fEI",
    "outputId": "838f14a0-3dbd-42c7-be1d-8403216644e0"
   },
   "outputs": [],
   "source": [
    "texto = \"Péssima experiência, o produto veio quebrado e o suporte não resolveu.\"\n",
    "\n",
    "print(f\"\\nTexto: {texto}\")\n",
    "\n",
    "sentimento = classificar_texto(texto)\n",
    "\n",
    "print(f\"Classificação: {sentimento}\")"
   ]
  },
  {
   "cell_type": "code",
   "execution_count": null,
   "metadata": {
    "colab": {
     "base_uri": "https://localhost:8080/"
    },
    "id": "Kb5hnpRt8q-q",
    "outputId": "11a18b7d-5848-40dc-9537-8a226c4aa06d"
   },
   "outputs": [],
   "source": [
    "texto = \"eu recomendaria\"\n",
    "\n",
    "print(f\"\\nTexto: {texto}\")\n",
    "\n",
    "sentimento = classificar_texto(texto)\n",
    "\n",
    "print(f\"Classificação: {sentimento}\")"
   ]
  },
  {
   "cell_type": "code",
   "execution_count": null,
   "metadata": {
    "colab": {
     "base_uri": "https://localhost:8080/"
    },
    "id": "jtIGCbYu8n-_",
    "outputId": "4fe0dffb-9fea-4c4a-9cec-06175bf72ab4"
   },
   "outputs": [],
   "source": [
    "texto = \"eu desrecomendaria\"\n",
    "\n",
    "print(f\"\\nTexto: {texto}\")\n",
    "\n",
    "sentimento = classificar_texto(texto)\n",
    "\n",
    "print(f\"Classificação: {sentimento}\")"
   ]
  },
  {
   "cell_type": "code",
   "execution_count": null,
   "metadata": {
    "colab": {
     "base_uri": "https://localhost:8080/"
    },
    "id": "BXL40z7N8huU",
    "outputId": "a7688133-94c3-437c-b371-5a3201603598"
   },
   "outputs": [],
   "source": [
    "texto = \"normal, não supreendeu.\"\n",
    "\n",
    "print(f\"\\nTexto: {texto}\")\n",
    "\n",
    "sentimento = classificar_texto(texto)\n",
    "\n",
    "print(f\"Classificação: {sentimento}\")"
   ]
  },
  {
   "cell_type": "code",
   "execution_count": null,
   "metadata": {
    "id": "FvgJmVXb8QL8"
   },
   "outputs": [],
   "source": []
  }
 ],
 "metadata": {
  "accelerator": "GPU",
  "colab": {
   "gpuType": "T4",
   "provenance": []
  },
  "kernelspec": {
   "display_name": "Python 3",
   "name": "python3"
  },
  "language_info": {
   "name": "python"
  }
 },
 "nbformat": 4,
 "nbformat_minor": 0
}
